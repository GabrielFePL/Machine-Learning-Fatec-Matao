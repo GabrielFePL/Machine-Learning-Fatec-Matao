{
  "nbformat": 4,
  "nbformat_minor": 0,
  "metadata": {
    "colab": {
      "provenance": [],
      "authorship_tag": "ABX9TyNAlA0RdtIGRb1w/Ya+Uo6U",
      "include_colab_link": true
    },
    "kernelspec": {
      "name": "python3",
      "display_name": "Python 3"
    },
    "language_info": {
      "name": "python"
    }
  },
  "cells": [
    {
      "cell_type": "markdown",
      "metadata": {
        "id": "view-in-github",
        "colab_type": "text"
      },
      "source": [
        "<a href=\"https://colab.research.google.com/github/GabrielFePL/Machine-Learning-Fatec-Matao/blob/main/BayesianProbability_Exercise_09_04.ipynb\" target=\"_parent\"><img src=\"https://colab.research.google.com/assets/colab-badge.svg\" alt=\"Open In Colab\"/></a>"
      ]
    },
    {
      "cell_type": "markdown",
      "source": [
        "# Atividade Avaliativa"
      ],
      "metadata": {
        "id": "e-AbgDLXGDar"
      }
    },
    {
      "cell_type": "markdown",
      "source": [
        "## Definição de Função Genérica do Teorema de Bayes para os Problemas Seguintes"
      ],
      "metadata": {
        "id": "bMUkXfNqMgU4"
      }
    },
    {
      "cell_type": "code",
      "source": [
        "def bayes(p_a, p_ba, p_nao_ba):\n",
        "  p_b = p_ba * p_a + p_nao_ba * (1 - p_a)\n",
        "  p_ab = (p_ba * p_a) / p_b\n",
        "  return round(p_ab * 100, 2)"
      ],
      "metadata": {
        "id": "cEoI34p7MlJ0"
      },
      "execution_count": 38,
      "outputs": []
    },
    {
      "cell_type": "markdown",
      "source": [
        "## Problema 1: O Alerta de Incêndio na Biblioteca"
      ],
      "metadata": {
        "id": "AML2MuFCGHB-"
      }
    },
    {
      "cell_type": "markdown",
      "source": [
        "Em uma biblioteca de grande porte, há um sistema de alarme de incêndio que dispara caso detecte fumaça. No entanto, sabe-se que o alarme não é perfeito. A probabilidade de realmente haver um incêndio na biblioteca em qualquer dia é de 0,5%. O sistema de alarme tem uma sensibilidade de 95% (ou seja, detecta corretamente 95% dos incêndios), mas também tem uma taxa de falso positivo de 3% (dispara erroneamente mesmo sem incêndio). Se o alarme disparou em um determinado dia, qual é a probabilidade de realmente haver um incêndio?"
      ],
      "metadata": {
        "id": "-0WFT-dPLQWx"
      }
    },
    {
      "cell_type": "code",
      "source": [
        "result = bayes(0.005, 0.95, 0.03)\n",
        "print('Se o alarme disparou em um determinado dia, a probabilidade de realmente haver um incêndio é de ' + str(result) + '%.')"
      ],
      "metadata": {
        "colab": {
          "base_uri": "https://localhost:8080/"
        },
        "id": "xDou9-KeNfVF",
        "outputId": "d05b26e0-7d40-46f5-f64f-1d97b5813695"
      },
      "execution_count": 39,
      "outputs": [
        {
          "output_type": "stream",
          "name": "stdout",
          "text": [
            "Se o alarme disparou em um determinado dia, a probabilidade de realmente haver um incêndio é de 13.73%.\n"
          ]
        }
      ]
    },
    {
      "cell_type": "markdown",
      "source": [
        "## Problema 2: O Teste Anti-Doping no Atletismo"
      ],
      "metadata": {
        "id": "4n_y0MiWIF0y"
      }
    },
    {
      "cell_type": "markdown",
      "source": [
        "Uma federação de atletismo aplica um teste antidoping nos atletas antes de competições internacionais. Estatísticas indicam que apenas 2% dos atletas realmente usam substâncias proibidas. O teste tem uma taxa de acerto de 98% para detectar os usuários de doping, mas também apresenta 5% de falsos positivos (ou seja, acusa incorretamente um atleta limpo). Se um atleta recebe um teste positivo, qual a probabilidade de que ele realmente tenha utilizado doping?"
      ],
      "metadata": {
        "id": "si0kJe1xLYJV"
      }
    },
    {
      "cell_type": "code",
      "source": [
        "result = bayes(0.02, 0.98, 0.05)\n",
        "print('Se um atleta recebe um teste positivo, a probabilidade de que ele realmente tenha utilizado doping é de ' + str(result) + '%.')"
      ],
      "metadata": {
        "colab": {
          "base_uri": "https://localhost:8080/"
        },
        "id": "h7__dWdFN-69",
        "outputId": "18834f4a-bb9f-4517-c545-31461a85723f"
      },
      "execution_count": 40,
      "outputs": [
        {
          "output_type": "stream",
          "name": "stdout",
          "text": [
            "Se um atleta recebe um teste positivo, a probabilidade de que ele realmente tenha utilizado doping é de 28.57%.\n"
          ]
        }
      ]
    },
    {
      "cell_type": "markdown",
      "source": [
        "## Problema 3: Identificação de Fraudes em Cartões de Crédito"
      ],
      "metadata": {
        "id": "3Ucp6RcPKZ3T"
      }
    },
    {
      "cell_type": "markdown",
      "source": [
        "Um sistema bancário monitora transações para detectar fraudes em cartões de crédito. A incidência de fraudes entre todas as transações é de 0,1%. O algoritmo de detecção tem uma precisão de 99% ao identificar transações fraudulentas, mas gera um falso positivo em 2% das transações legítimas. Se uma transação for sinalizada como fraudulenta, qual a probabilidade de que realmente seja uma fraude?"
      ],
      "metadata": {
        "id": "tlCpgC7FLawv"
      }
    },
    {
      "cell_type": "code",
      "source": [
        "result = bayes(0.001, 0.99, 0.02)\n",
        "print('Se uma transação for sinalizada como fraudulenta, a probabilidade de que realmente seja uma fraude é de ' + str(result) + '%.')"
      ],
      "metadata": {
        "colab": {
          "base_uri": "https://localhost:8080/"
        },
        "id": "dQBFFaX3OVg0",
        "outputId": "6281147e-403d-404a-e9c6-127bac12e4f6"
      },
      "execution_count": 41,
      "outputs": [
        {
          "output_type": "stream",
          "name": "stdout",
          "text": [
            "Se uma transação for sinalizada como fraudulenta, a probabilidade de que realmente seja uma fraude é de 4.72%.\n"
          ]
        }
      ]
    },
    {
      "cell_type": "markdown",
      "source": [
        "## Problema 4: Diagnóstico de uma Doença Rara"
      ],
      "metadata": {
        "id": "9gNLuemAMGjN"
      }
    },
    {
      "cell_type": "markdown",
      "source": [
        "Uma nova doença rara afeta apenas 0,05% da população. Um teste desenvolvido para detectar essa doença tem uma sensibilidade de 97% (ou seja, detecta corretamente os casos positivos), mas também tem uma taxa de 4% de falsos positivos. Se uma pessoa recebe um resultado positivo no teste, qual é a probabilidade de ela realmente estar doente?"
      ],
      "metadata": {
        "id": "nFXjempqMIrM"
      }
    },
    {
      "cell_type": "code",
      "source": [
        "result = bayes(0.0005, 0.97, 0.04)\n",
        "print('Se uma pessoa recebe um resultado positivo no teste, a probabilidade de ela realmente estar doente é de ' + str(result) + '%.')"
      ],
      "metadata": {
        "colab": {
          "base_uri": "https://localhost:8080/"
        },
        "id": "PzMARdVzMNc_",
        "outputId": "ba4fb62c-cc2d-4fc8-bddc-7447a80e1292"
      },
      "execution_count": 42,
      "outputs": [
        {
          "output_type": "stream",
          "name": "stdout",
          "text": [
            "Se uma pessoa recebe um resultado positivo no teste, a probabilidade de ela realmente estar doente é de 1.2%.\n"
          ]
        }
      ]
    },
    {
      "cell_type": "markdown",
      "source": [
        "## Problema 5: Detecção de Malware em Arquivos"
      ],
      "metadata": {
        "id": "fEj6JP6vOl9q"
      }
    },
    {
      "cell_type": "markdown",
      "source": [
        "Uma empresa de segurança digital utiliza um software para detectar arquivos maliciosos em seu sistema. Em média, 0,3% dos arquivos recebidos são realmente malwares. O detector possui uma taxa de detecção correta de 96%, mas gera 1,5% de falsos positivos. Se um arquivo for sinalizado como malware, qual é a probabilidade de que ele realmente seja malicioso?"
      ],
      "metadata": {
        "id": "9k1GGZhqO5sa"
      }
    },
    {
      "cell_type": "code",
      "source": [
        "result = bayes(0.003, 0.96, 0.015)\n",
        "print('Se um arquivo for sinalizado como malware, a probabilidade de que ele realmente seja malicioso é de ' + str(result) + '%.')"
      ],
      "metadata": {
        "colab": {
          "base_uri": "https://localhost:8080/"
        },
        "id": "QKEcKdcnO9kI",
        "outputId": "10831cb1-0ba6-4831-eca3-eedff2698062"
      },
      "execution_count": 43,
      "outputs": [
        {
          "output_type": "stream",
          "name": "stdout",
          "text": [
            "Se um arquivo for sinalizado como malware, a probabilidade de que ele realmente seja malicioso é de 16.15%.\n"
          ]
        }
      ]
    },
    {
      "cell_type": "markdown",
      "source": [
        "## Problema 6: Identificação de Motoristas Embriagados"
      ],
      "metadata": {
        "id": "Mxjz3ZrkPJpj"
      }
    },
    {
      "cell_type": "markdown",
      "source": [
        "Em uma cidade, policiais realizam testes de bafômetro para identificar motoristas dirigindo sob efeito de álcool. Estima-se que 4% dos motoristas estejam dirigindo alcoolizados. O teste tem uma taxa de acerto de 92% para motoristas embriagados, mas também tem 7% de falsos positivos. Se um motorista for identificado pelo teste como embriagado, qual é a probabilidade de ele realmente estar alcoolizado?\n"
      ],
      "metadata": {
        "id": "nwaBY5ibPM6e"
      }
    },
    {
      "cell_type": "code",
      "source": [
        "result = bayes(0.04, 0.92, 0.07)\n",
        "print('Se um motorista for identificado pelo teste como embriagado, a probabilidade de ele realmente estar alcoolizado é de ' + str(result) + '%.')"
      ],
      "metadata": {
        "colab": {
          "base_uri": "https://localhost:8080/"
        },
        "id": "XIuYizzDPMWU",
        "outputId": "a5d44c79-aa76-4d1f-a4b9-e6041357e929"
      },
      "execution_count": 44,
      "outputs": [
        {
          "output_type": "stream",
          "name": "stdout",
          "text": [
            "Se um motorista for identificado pelo teste como embriagado, a probabilidade de ele realmente estar alcoolizado é de 35.38%.\n"
          ]
        }
      ]
    },
    {
      "cell_type": "markdown",
      "source": [
        "## Problema 7: Teste de Eficiência de uma Nova Vacina"
      ],
      "metadata": {
        "id": "guWxfHvVPar7"
      }
    },
    {
      "cell_type": "markdown",
      "source": [
        "Um laboratório desenvolveu uma nova vacina contra um vírus. Em uma população de 100.000 pessoas, 2% realmente estão infectadas. O teste desenvolvido para avaliar a eficácia da vacina identifica corretamente 98% dos infectados, mas também gera 3% de falsos positivos. Se um indivíduo testado for considerado infectado, qual a probabilidade de ele realmente estar doente?\n"
      ],
      "metadata": {
        "id": "9_nkccGFPgUz"
      }
    },
    {
      "cell_type": "code",
      "source": [
        "result = bayes(0.02, 0.98, 0.03)\n",
        "print('Se um indivíduo testado for considerado infectado, a probabilidade de ele realmente estar doente é de ' + str(result) + '%.')"
      ],
      "metadata": {
        "colab": {
          "base_uri": "https://localhost:8080/"
        },
        "id": "tHS4olNxPdjU",
        "outputId": "c78aaf68-ce80-432a-d17b-92aa46f6508a"
      },
      "execution_count": 45,
      "outputs": [
        {
          "output_type": "stream",
          "name": "stdout",
          "text": [
            "Se um indivíduo testado for considerado infectado, a probabilidade de ele realmente estar doente é de 40.0%.\n"
          ]
        }
      ]
    },
    {
      "cell_type": "markdown",
      "source": [
        "## Problema 8: Alarme de Roubo em uma Loja"
      ],
      "metadata": {
        "id": "4gULxd8EQnfY"
      }
    },
    {
      "cell_type": "markdown",
      "source": [
        "Uma loja de conveniência instalou um alarme de segurança para detectar roubos. A\n",
        "probabilidade de um roubo ocorrer em um determinado dia é de 0,7%. O sistema de alarme é 94% preciso ao detectar roubos, mas apresenta 4% de falsos positivos. Se o alarme disparar, qual a probabilidade de um roubo estar realmente ocorrendo?"
      ],
      "metadata": {
        "id": "wQn93wrnQpqB"
      }
    },
    {
      "cell_type": "code",
      "source": [
        "result = bayes(0.007, 0.94, 0.04)\n",
        "print('Se o alarme disparar, a probabilidade de um roubo estar realmente ocorrendo é de ' + str(result) + '%.')"
      ],
      "metadata": {
        "colab": {
          "base_uri": "https://localhost:8080/"
        },
        "id": "pwmHgOAoQsI_",
        "outputId": "2a27e62f-67ca-4b2e-d938-a59f05db839a"
      },
      "execution_count": 46,
      "outputs": [
        {
          "output_type": "stream",
          "name": "stdout",
          "text": [
            "Se o alarme disparar, a probabilidade de um roubo estar realmente ocorrendo é de 14.21%.\n"
          ]
        }
      ]
    },
    {
      "cell_type": "markdown",
      "source": [
        "## Problema 9: Teste de Contaminação na Água"
      ],
      "metadata": {
        "id": "_vgEYjp6Q2aO"
      }
    },
    {
      "cell_type": "markdown",
      "source": [
        "Um município monitora a qualidade da água através de testes químicos. A chance de a água estar contaminada é de 1,5%. O teste de detecção de contaminantes tem uma taxa de acerto de 98%, mas gera 2% de falsos positivos. Se um teste indicar que a água está contaminada, qual é a probabilidade de que realmente esteja?\n"
      ],
      "metadata": {
        "id": "s-mJVCdaQ519"
      }
    },
    {
      "cell_type": "code",
      "source": [
        "result = bayes(0.015, 0.98, 0.02)\n",
        "print('Se um teste indicar que a água está contaminada, a probabilidade de que realmente esteja é de ' + str(result) + '%.')"
      ],
      "metadata": {
        "colab": {
          "base_uri": "https://localhost:8080/"
        },
        "id": "AlZjPeyZQ8za",
        "outputId": "5c852934-b573-4fcb-a996-42d1d5623bd1"
      },
      "execution_count": 47,
      "outputs": [
        {
          "output_type": "stream",
          "name": "stdout",
          "text": [
            "Se um teste indicar que a água está contaminada, a probabilidade de que realmente esteja é de 42.73%.\n"
          ]
        }
      ]
    },
    {
      "cell_type": "markdown",
      "source": [
        "## Problema 10: Inspeção de Qualidade em uma Fábrica"
      ],
      "metadata": {
        "id": "V8hwwfjFRG2f"
      }
    },
    {
      "cell_type": "markdown",
      "source": [
        "Uma fábrica de eletrônicos realiza inspeções em seus produtos para verificar defeitos. A taxa real de defeitos é de 0,8%. O sistema de inspeção detecta corretamente 95% dos produtos defeituosos, mas classifica erroneamente 3% dos produtos bons como defeituosos. Se um produto for considerado defeituoso, qual a probabilidade de ele realmente ter um defeito?"
      ],
      "metadata": {
        "id": "Y4dWp8szRJGq"
      }
    },
    {
      "cell_type": "code",
      "source": [
        "result = bayes(0.008, 0.95, 0.03)\n",
        "print('Se um produto for considerado defeituoso, a probabilidade de ele realmente ter um defeito é de ' + str(result) + '%.')"
      ],
      "metadata": {
        "colab": {
          "base_uri": "https://localhost:8080/"
        },
        "id": "83YQmsWqRMDw",
        "outputId": "a534b394-fab5-4e40-bec9-2718c5e45ae9"
      },
      "execution_count": 48,
      "outputs": [
        {
          "output_type": "stream",
          "name": "stdout",
          "text": [
            "Se um produto for considerado defeituoso, a probabilidade de ele realmente ter um defeito é de 20.34%.\n"
          ]
        }
      ]
    },
    {
      "cell_type": "markdown",
      "source": [
        "## Problema 11: Triagem de Candidatos em uma Entrevista"
      ],
      "metadata": {
        "id": "-nKggSnsRT3G"
      }
    },
    {
      "cell_type": "markdown",
      "source": [
        "Uma empresa recebe candidatos para um processo seletivo e aplica um teste eliminatório. Apenas 5% dos candidatos têm o perfil adequado para a vaga. O teste identifica corretamente 90% dos candidatos adequados, mas rejeita incorretamente 8% dos inadequados. Se um candidato for aprovado no teste, qual a probabilidade de ele realmente ser adequado para a vaga?\n"
      ],
      "metadata": {
        "id": "cxEKvRERRXEf"
      }
    },
    {
      "cell_type": "code",
      "source": [
        "result = bayes(0.05, 0.90, 0.08)\n",
        "print('Se um candidato for aprovado no teste, a probabilidade de ele realmente ser adequado para a vaga é de ' + str(result) + '%.')"
      ],
      "metadata": {
        "colab": {
          "base_uri": "https://localhost:8080/"
        },
        "id": "eMVh6XRdRbQW",
        "outputId": "2454583b-6fb0-484c-c99f-0e133eac9ff6"
      },
      "execution_count": 49,
      "outputs": [
        {
          "output_type": "stream",
          "name": "stdout",
          "text": [
            "Se um candidato for aprovado no teste, a probabilidade de ele realmente ser adequado para a vaga é de 37.19%.\n"
          ]
        }
      ]
    },
    {
      "cell_type": "markdown",
      "source": [
        "## Problema 12: Detector de Mensagens Spam"
      ],
      "metadata": {
        "id": "xBMspoXDRhUK"
      }
    },
    {
      "cell_type": "markdown",
      "source": [
        "Um provedor de e-mails usa um algoritmo para identificar mensagens de spam. Em média, 15% dos e-mails recebidos são spam. O detector tem uma taxa de acerto de 96%, mas classifica erroneamente 5% dos e-mails legítimos como spam. Se um e-mail for marcado como spam, qual a probabilidade de ele realmente ser spam?"
      ],
      "metadata": {
        "id": "n6vuTtfORjeV"
      }
    },
    {
      "cell_type": "code",
      "source": [
        "result = bayes(0.15, 0.96, 0.05)\n",
        "print('Se um e-mail for marcado como spam, a probabilidade de ele realmente ser spam é de ' + str(result) + '%.')"
      ],
      "metadata": {
        "colab": {
          "base_uri": "https://localhost:8080/"
        },
        "id": "aDQt0Ma0Rmcg",
        "outputId": "3eb07060-9f26-43fb-da4b-684393192d98"
      },
      "execution_count": 50,
      "outputs": [
        {
          "output_type": "stream",
          "name": "stdout",
          "text": [
            "Se um e-mail for marcado como spam, a probabilidade de ele realmente ser spam é de 77.21%.\n"
          ]
        }
      ]
    },
    {
      "cell_type": "markdown",
      "source": [
        "## Problema 13: Reconhecimento Facial em Aeroportos"
      ],
      "metadata": {
        "id": "T1wSBa6mSC1D"
      }
    },
    {
      "cell_type": "markdown",
      "source": [
        "Aeroportos utilizam sistemas de reconhecimento facial para identificar passageiros com mandados de prisão. Apenas 0,2% dos passageiros estão na lista de procurados. O sistema acerta 99% das identificações corretas, mas também gera 1% de falsos positivos. Se um passageiro for identificado como procurado, qual a probabilidade de ele realmente estar na lista?"
      ],
      "metadata": {
        "id": "rRfrGdXgSLCB"
      }
    },
    {
      "cell_type": "code",
      "source": [
        "result = bayes(0.002, 0.99, 0.01)\n",
        "print('Se um passageiro for identificado como procurado, a probabilidade de ele realmente estar na lista é de ' + str(result) + '%.')"
      ],
      "metadata": {
        "colab": {
          "base_uri": "https://localhost:8080/"
        },
        "id": "uSwnJyb5SQD5",
        "outputId": "a93654a3-c561-4f52-82b9-9e0eac698d16"
      },
      "execution_count": 51,
      "outputs": [
        {
          "output_type": "stream",
          "name": "stdout",
          "text": [
            "Se um passageiro for identificado como procurado, a probabilidade de ele realmente estar na lista é de 16.56%.\n"
          ]
        }
      ]
    },
    {
      "cell_type": "markdown",
      "source": [
        "## Problema 14: Teste de Fidelidade em Programas de Benefícios"
      ],
      "metadata": {
        "id": "GDkpNtldSuki"
      }
    },
    {
      "cell_type": "markdown",
      "source": [
        "Um supermercado utiliza um programa de fidelidade para oferecer descontos personalizados aos clientes mais frequentes. Apenas 10% dos clientes são considerados \"altamente fiéis\". O sistema identifica corretamente 95% desses clientes, mas classifica erroneamente 7% dos clientes regulares como altamente fiéis. Se um cliente for classificado como altamente fiel, qual a probabilidade de ele realmente pertencer a esse grupo?"
      ],
      "metadata": {
        "id": "iod_hM9sSw9R"
      }
    },
    {
      "cell_type": "code",
      "source": [
        "result = bayes(0.10, 0.95, 0.07)\n",
        "print('Se um cliente for classificado como altamente fiel, a probabilidade de ele realmente pertencer a esse grupo é de ' + str(result) + '%.')"
      ],
      "metadata": {
        "colab": {
          "base_uri": "https://localhost:8080/"
        },
        "id": "8sYBENfBS0uy",
        "outputId": "10da4be7-5dc0-4e9a-8974-2e3d892710fc"
      },
      "execution_count": 52,
      "outputs": [
        {
          "output_type": "stream",
          "name": "stdout",
          "text": [
            "Se um cliente for classificado como altamente fiel, a probabilidade de ele realmente pertencer a esse grupo é de 60.13%.\n"
          ]
        }
      ]
    },
    {
      "cell_type": "markdown",
      "source": [
        "## Problema 15: Sensor de Qualidade do Ar"
      ],
      "metadata": {
        "id": "4IKIExCFS7FM"
      }
    },
    {
      "cell_type": "markdown",
      "source": [
        "Uma cidade implementou sensores para medir a poluição do ar. Apenas 2% dos dias no ano apresentam níveis críticos de poluição. Os sensores detectam corretamente 97% dos dias críticos, mas também apresentam 3% de falsos positivos. Se um sensor indicar um dia como crítico, qual a probabilidade de realmente ser um dia de alta poluição?"
      ],
      "metadata": {
        "id": "Ld-131A1S-0u"
      }
    },
    {
      "cell_type": "code",
      "source": [
        "result = bayes(0.02, 0.97, 0.03)\n",
        "print('Se um sensor indicar um dia como crítico, a probabilidade de realmente ser um dia de alta poluição é de ' + str(result) + '%.')"
      ],
      "metadata": {
        "colab": {
          "base_uri": "https://localhost:8080/"
        },
        "id": "eRy071weTCQy",
        "outputId": "77a054d6-c47d-40ba-e20c-17aefd0dfea4"
      },
      "execution_count": 53,
      "outputs": [
        {
          "output_type": "stream",
          "name": "stdout",
          "text": [
            "Se um sensor indicar um dia como crítico, a probabilidade de realmente ser um dia de alta poluição é de 39.75%.\n"
          ]
        }
      ]
    }
  ]
}