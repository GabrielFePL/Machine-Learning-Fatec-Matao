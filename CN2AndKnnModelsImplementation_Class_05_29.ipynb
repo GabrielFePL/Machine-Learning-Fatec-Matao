{
  "nbformat": 4,
  "nbformat_minor": 0,
  "metadata": {
    "colab": {
      "provenance": [],
      "collapsed_sections": [
        "w1J7UTPjb0K0",
        "av-cgMIWrjz6"
      ],
      "authorship_tag": "ABX9TyNQxXCOR6kHt8MYT/9vIpAl",
      "include_colab_link": true
    },
    "kernelspec": {
      "name": "python3",
      "display_name": "Python 3"
    },
    "language_info": {
      "name": "python"
    }
  },
  "cells": [
    {
      "cell_type": "markdown",
      "metadata": {
        "id": "view-in-github",
        "colab_type": "text"
      },
      "source": [
        "<a href=\"https://colab.research.google.com/github/GabrielFePL/Machine-Learning-Fatec-Matao/blob/main/CN2AndKnnModelsImplementation_Class_05_29.ipynb\" target=\"_parent\"><img src=\"https://colab.research.google.com/assets/colab-badge.svg\" alt=\"Open In Colab\"/></a>"
      ]
    },
    {
      "cell_type": "markdown",
      "source": [
        "# Machine Learning - Fatec Matão"
      ],
      "metadata": {
        "id": "hvkrzeyyY_4m"
      }
    },
    {
      "cell_type": "markdown",
      "source": [
        "## Pré-Processamento de Dados"
      ],
      "metadata": {
        "id": "QO4GAKcA7tjA"
      }
    },
    {
      "cell_type": "markdown",
      "source": [
        "### Importação de Bibliotecas"
      ],
      "metadata": {
        "id": "w1J7UTPjb0K0"
      }
    },
    {
      "cell_type": "markdown",
      "source": [
        "* O pandas é uma biblioteca do Python usada para manipulação e análise de dados, oferecendo estruturas como DataFrame e Series para organizar, filtrar, transformar e visualizar dados de forma eficiente. Documentação: https://pandas.pydata.org/docs/\n",
        "\n",
        "* O NumPy é uma biblioteca do Python para cálculos numéricos, oferecendo arrays multidimensionais eficientes e funções matemáticas otimizadas para operações científicas e estatísticas. Documentação: https://numpy.org/doc/\n",
        "\n",
        "* O Seaborn é uma biblioteca do Python para visualização de dados, baseada no Matplotlib, que facilita a criação de gráficos estatísticos elegantes e informativos com menos código. Documentação: https://seaborn.pydata.org/\n",
        "\n",
        "* O matplotlib.pyplot é um módulo do Matplotlib que permite criar gráficos estáticos, interativos e personalizados em Python, sendo amplamente usado para visualização de dados. Documentação: https://matplotlib.org/3.5.3/api/_as_gen/matplotlib.pyplot.html\n",
        "\n",
        "* O plotly.express é uma biblioteca do Python para criar gráficos interativos e dinâmicos de forma simples, permitindo visualizações ricas e personalizáveis com poucos comandos. Documentação: https://plotly.com/python-api-reference/plotly.express.html\n",
        "\n",
        "* O sklearn.preprocessing.StandardScaler é uma ferramenta do Scikit-learn para padronizar dados, centralizando a média em 0 e a variância em 1. Documentação: https://scikit-learn.org/stable/modules/generated/sklearn.preprocessing.StandardScaler.html\n",
        "\n",
        "* O sklearn.model_selection.train_test_split é uma função do Scikit-learn para dividir conjuntos de dados em treinos e testes de forma aleatória. Documentação: https://scikit-learn.org/stable/modules/generated/sklearn.model_selection.train_test_split.html\n",
        "\n",
        "* O pickle é um módulo do Python para serialização e desserialização de objetos Python, permitindo salvar e carregar modelos treinados. Documentação: https://docs.python.org/pt-br/dev/library/pickle.html"
      ],
      "metadata": {
        "id": "qmnT_xCEfuxH"
      }
    },
    {
      "cell_type": "code",
      "source": [
        "!pip install plotly --upgrade\n",
        "!pip install Orange3==3.36.2"
      ],
      "metadata": {
        "colab": {
          "base_uri": "https://localhost:8080/"
        },
        "id": "Ri-qBKbQh_5d",
        "outputId": "03a21ff2-53f3-45c3-b436-982649e11256"
      },
      "execution_count": 69,
      "outputs": [
        {
          "output_type": "stream",
          "name": "stdout",
          "text": [
            "Requirement already satisfied: plotly in /usr/local/lib/python3.11/dist-packages (6.1.2)\n",
            "Requirement already satisfied: narwhals>=1.15.1 in /usr/local/lib/python3.11/dist-packages (from plotly) (1.40.0)\n",
            "Requirement already satisfied: packaging in /usr/local/lib/python3.11/dist-packages (from plotly) (24.2)\n",
            "Requirement already satisfied: Orange3==3.36.2 in /usr/local/lib/python3.11/dist-packages (3.36.2)\n",
            "Requirement already satisfied: AnyQt>=0.2.0 in /usr/local/lib/python3.11/dist-packages (from Orange3==3.36.2) (0.2.1)\n",
            "Requirement already satisfied: baycomp>=1.0.2 in /usr/local/lib/python3.11/dist-packages (from Orange3==3.36.2) (1.0.3)\n",
            "Requirement already satisfied: bottleneck>=1.3.4 in /usr/local/lib/python3.11/dist-packages (from Orange3==3.36.2) (1.4.2)\n",
            "Requirement already satisfied: catboost>=1.0.1 in /usr/local/lib/python3.11/dist-packages (from Orange3==3.36.2) (1.2.8)\n",
            "Requirement already satisfied: chardet>=3.0.2 in /usr/local/lib/python3.11/dist-packages (from Orange3==3.36.2) (5.2.0)\n",
            "Requirement already satisfied: httpx>=0.21.0 in /usr/local/lib/python3.11/dist-packages (from Orange3==3.36.2) (0.28.1)\n",
            "Requirement already satisfied: joblib>=1.0.0 in /usr/local/lib/python3.11/dist-packages (from Orange3==3.36.2) (1.5.0)\n",
            "Requirement already satisfied: keyring in /usr/local/lib/python3.11/dist-packages (from Orange3==3.36.2) (25.6.0)\n",
            "Requirement already satisfied: keyrings.alt in /usr/local/lib/python3.11/dist-packages (from Orange3==3.36.2) (5.0.2)\n",
            "Requirement already satisfied: matplotlib>=3.2.0 in /usr/local/lib/python3.11/dist-packages (from Orange3==3.36.2) (3.10.0)\n",
            "Requirement already satisfied: networkx in /usr/local/lib/python3.11/dist-packages (from Orange3==3.36.2) (3.4.2)\n",
            "Requirement already satisfied: numpy>=1.20.0 in /usr/local/lib/python3.11/dist-packages (from Orange3==3.36.2) (1.26.4)\n",
            "Requirement already satisfied: openTSNE!=0.7.0,>=0.6.1 in /usr/local/lib/python3.11/dist-packages (from Orange3==3.36.2) (1.0.2)\n",
            "Requirement already satisfied: openpyxl in /usr/local/lib/python3.11/dist-packages (from Orange3==3.36.2) (3.1.5)\n",
            "Requirement already satisfied: orange-canvas-core<0.2a,>=0.1.30 in /usr/local/lib/python3.11/dist-packages (from Orange3==3.36.2) (0.1.35)\n",
            "Requirement already satisfied: orange-widget-base>=4.22.0 in /usr/local/lib/python3.11/dist-packages (from Orange3==3.36.2) (4.22.0)\n",
            "Requirement already satisfied: pandas!=1.5.0,!=2.0.0,>=1.4.0 in /usr/local/lib/python3.11/dist-packages (from Orange3==3.36.2) (2.2.2)\n",
            "Requirement already satisfied: pip>=18.0 in /usr/local/lib/python3.11/dist-packages (from Orange3==3.36.2) (24.1.2)\n",
            "Requirement already satisfied: pygments>=2.8.0 in /usr/local/lib/python3.11/dist-packages (from Orange3==3.36.2) (2.19.1)\n",
            "Requirement already satisfied: pyqtgraph>=0.13.1 in /usr/local/lib/python3.11/dist-packages (from Orange3==3.36.2) (0.13.7)\n",
            "Requirement already satisfied: python-louvain>=0.13 in /usr/local/lib/python3.11/dist-packages (from Orange3==3.36.2) (0.16)\n",
            "Requirement already satisfied: pyyaml in /usr/local/lib/python3.11/dist-packages (from Orange3==3.36.2) (6.0.2)\n",
            "Requirement already satisfied: qtconsole>=4.7.2 in /usr/local/lib/python3.11/dist-packages (from Orange3==3.36.2) (5.6.1)\n",
            "Requirement already satisfied: requests in /usr/local/lib/python3.11/dist-packages (from Orange3==3.36.2) (2.32.3)\n",
            "Requirement already satisfied: scikit-learn!=1.2.*,<1.4,>=1.1.0 in /usr/local/lib/python3.11/dist-packages (from Orange3==3.36.2) (1.3.2)\n",
            "Requirement already satisfied: scipy>=1.9 in /usr/local/lib/python3.11/dist-packages (from Orange3==3.36.2) (1.15.3)\n",
            "Requirement already satisfied: serverfiles in /usr/local/lib/python3.11/dist-packages (from Orange3==3.36.2) (0.3.1)\n",
            "Requirement already satisfied: setuptools>=51.0.0 in /usr/local/lib/python3.11/dist-packages (from Orange3==3.36.2) (75.2.0)\n",
            "Requirement already satisfied: xgboost>=1.7.4 in /usr/local/lib/python3.11/dist-packages (from Orange3==3.36.2) (2.1.4)\n",
            "Requirement already satisfied: xlrd>=1.2.0 in /usr/local/lib/python3.11/dist-packages (from Orange3==3.36.2) (2.0.1)\n",
            "Requirement already satisfied: xlsxwriter in /usr/local/lib/python3.11/dist-packages (from Orange3==3.36.2) (3.2.3)\n",
            "Requirement already satisfied: graphviz in /usr/local/lib/python3.11/dist-packages (from catboost>=1.0.1->Orange3==3.36.2) (0.20.3)\n",
            "Requirement already satisfied: plotly in /usr/local/lib/python3.11/dist-packages (from catboost>=1.0.1->Orange3==3.36.2) (6.1.2)\n",
            "Requirement already satisfied: six in /usr/local/lib/python3.11/dist-packages (from catboost>=1.0.1->Orange3==3.36.2) (1.17.0)\n",
            "Requirement already satisfied: anyio in /usr/local/lib/python3.11/dist-packages (from httpx>=0.21.0->Orange3==3.36.2) (4.9.0)\n",
            "Requirement already satisfied: certifi in /usr/local/lib/python3.11/dist-packages (from httpx>=0.21.0->Orange3==3.36.2) (2025.4.26)\n",
            "Requirement already satisfied: httpcore==1.* in /usr/local/lib/python3.11/dist-packages (from httpx>=0.21.0->Orange3==3.36.2) (1.0.9)\n",
            "Requirement already satisfied: idna in /usr/local/lib/python3.11/dist-packages (from httpx>=0.21.0->Orange3==3.36.2) (3.10)\n",
            "Requirement already satisfied: h11>=0.16 in /usr/local/lib/python3.11/dist-packages (from httpcore==1.*->httpx>=0.21.0->Orange3==3.36.2) (0.16.0)\n",
            "Requirement already satisfied: contourpy>=1.0.1 in /usr/local/lib/python3.11/dist-packages (from matplotlib>=3.2.0->Orange3==3.36.2) (1.3.2)\n",
            "Requirement already satisfied: cycler>=0.10 in /usr/local/lib/python3.11/dist-packages (from matplotlib>=3.2.0->Orange3==3.36.2) (0.12.1)\n",
            "Requirement already satisfied: fonttools>=4.22.0 in /usr/local/lib/python3.11/dist-packages (from matplotlib>=3.2.0->Orange3==3.36.2) (4.58.0)\n",
            "Requirement already satisfied: kiwisolver>=1.3.1 in /usr/local/lib/python3.11/dist-packages (from matplotlib>=3.2.0->Orange3==3.36.2) (1.4.8)\n",
            "Requirement already satisfied: packaging>=20.0 in /usr/local/lib/python3.11/dist-packages (from matplotlib>=3.2.0->Orange3==3.36.2) (24.2)\n",
            "Requirement already satisfied: pillow>=8 in /usr/local/lib/python3.11/dist-packages (from matplotlib>=3.2.0->Orange3==3.36.2) (11.2.1)\n",
            "Requirement already satisfied: pyparsing>=2.3.1 in /usr/local/lib/python3.11/dist-packages (from matplotlib>=3.2.0->Orange3==3.36.2) (3.2.3)\n",
            "Requirement already satisfied: python-dateutil>=2.7 in /usr/local/lib/python3.11/dist-packages (from matplotlib>=3.2.0->Orange3==3.36.2) (2.9.0.post0)\n",
            "Requirement already satisfied: docutils in /usr/local/lib/python3.11/dist-packages (from orange-canvas-core<0.2a,>=0.1.30->Orange3==3.36.2) (0.21.2)\n",
            "Requirement already satisfied: commonmark>=0.8.1 in /usr/local/lib/python3.11/dist-packages (from orange-canvas-core<0.2a,>=0.1.30->Orange3==3.36.2) (0.9.1)\n",
            "Requirement already satisfied: requests-cache in /usr/local/lib/python3.11/dist-packages (from orange-canvas-core<0.2a,>=0.1.30->Orange3==3.36.2) (1.2.1)\n",
            "Requirement already satisfied: dictdiffer in /usr/local/lib/python3.11/dist-packages (from orange-canvas-core<0.2a,>=0.1.30->Orange3==3.36.2) (0.9.0)\n",
            "Requirement already satisfied: qasync>=0.10.0 in /usr/local/lib/python3.11/dist-packages (from orange-canvas-core<0.2a,>=0.1.30->Orange3==3.36.2) (0.27.1)\n",
            "Requirement already satisfied: typing-extensions>=3.7.4.3 in /usr/local/lib/python3.11/dist-packages (from orange-widget-base>=4.22.0->Orange3==3.36.2) (4.13.2)\n",
            "Requirement already satisfied: pytz>=2020.1 in /usr/local/lib/python3.11/dist-packages (from pandas!=1.5.0,!=2.0.0,>=1.4.0->Orange3==3.36.2) (2025.2)\n",
            "Requirement already satisfied: tzdata>=2022.7 in /usr/local/lib/python3.11/dist-packages (from pandas!=1.5.0,!=2.0.0,>=1.4.0->Orange3==3.36.2) (2025.2)\n",
            "Requirement already satisfied: traitlets!=5.2.1,!=5.2.2 in /usr/local/lib/python3.11/dist-packages (from qtconsole>=4.7.2->Orange3==3.36.2) (5.7.1)\n",
            "Requirement already satisfied: jupyter-core in /usr/local/lib/python3.11/dist-packages (from qtconsole>=4.7.2->Orange3==3.36.2) (5.7.2)\n",
            "Requirement already satisfied: jupyter-client>=4.1 in /usr/local/lib/python3.11/dist-packages (from qtconsole>=4.7.2->Orange3==3.36.2) (6.1.12)\n",
            "Requirement already satisfied: ipykernel>=4.1 in /usr/local/lib/python3.11/dist-packages (from qtconsole>=4.7.2->Orange3==3.36.2) (6.17.1)\n",
            "Requirement already satisfied: qtpy>=2.4.0 in /usr/local/lib/python3.11/dist-packages (from qtconsole>=4.7.2->Orange3==3.36.2) (2.4.3)\n",
            "Requirement already satisfied: threadpoolctl>=2.0.0 in /usr/local/lib/python3.11/dist-packages (from scikit-learn!=1.2.*,<1.4,>=1.1.0->Orange3==3.36.2) (3.6.0)\n",
            "Requirement already satisfied: nvidia-nccl-cu12 in /usr/local/lib/python3.11/dist-packages (from xgboost>=1.7.4->Orange3==3.36.2) (2.21.5)\n",
            "Requirement already satisfied: SecretStorage>=3.2 in /usr/local/lib/python3.11/dist-packages (from keyring->Orange3==3.36.2) (3.3.3)\n",
            "Requirement already satisfied: jeepney>=0.4.2 in /usr/local/lib/python3.11/dist-packages (from keyring->Orange3==3.36.2) (0.9.0)\n",
            "Requirement already satisfied: importlib_metadata>=4.11.4 in /usr/local/lib/python3.11/dist-packages (from keyring->Orange3==3.36.2) (8.7.0)\n",
            "Requirement already satisfied: jaraco.classes in /usr/local/lib/python3.11/dist-packages (from keyring->Orange3==3.36.2) (3.4.0)\n",
            "Requirement already satisfied: jaraco.functools in /usr/local/lib/python3.11/dist-packages (from keyring->Orange3==3.36.2) (4.1.0)\n",
            "Requirement already satisfied: jaraco.context in /usr/local/lib/python3.11/dist-packages (from keyring->Orange3==3.36.2) (6.0.1)\n",
            "Requirement already satisfied: et-xmlfile in /usr/local/lib/python3.11/dist-packages (from openpyxl->Orange3==3.36.2) (2.0.0)\n",
            "Requirement already satisfied: charset-normalizer<4,>=2 in /usr/local/lib/python3.11/dist-packages (from requests->Orange3==3.36.2) (3.4.2)\n",
            "Requirement already satisfied: urllib3<3,>=1.21.1 in /usr/local/lib/python3.11/dist-packages (from requests->Orange3==3.36.2) (2.4.0)\n",
            "Requirement already satisfied: zipp>=3.20 in /usr/local/lib/python3.11/dist-packages (from importlib_metadata>=4.11.4->keyring->Orange3==3.36.2) (3.21.0)\n",
            "Requirement already satisfied: debugpy>=1.0 in /usr/local/lib/python3.11/dist-packages (from ipykernel>=4.1->qtconsole>=4.7.2->Orange3==3.36.2) (1.8.0)\n",
            "Requirement already satisfied: ipython>=7.23.1 in /usr/local/lib/python3.11/dist-packages (from ipykernel>=4.1->qtconsole>=4.7.2->Orange3==3.36.2) (7.34.0)\n",
            "Requirement already satisfied: matplotlib-inline>=0.1 in /usr/local/lib/python3.11/dist-packages (from ipykernel>=4.1->qtconsole>=4.7.2->Orange3==3.36.2) (0.1.7)\n",
            "Requirement already satisfied: nest-asyncio in /usr/local/lib/python3.11/dist-packages (from ipykernel>=4.1->qtconsole>=4.7.2->Orange3==3.36.2) (1.6.0)\n",
            "Requirement already satisfied: psutil in /usr/local/lib/python3.11/dist-packages (from ipykernel>=4.1->qtconsole>=4.7.2->Orange3==3.36.2) (5.9.5)\n",
            "Requirement already satisfied: pyzmq>=17 in /usr/local/lib/python3.11/dist-packages (from ipykernel>=4.1->qtconsole>=4.7.2->Orange3==3.36.2) (24.0.1)\n",
            "Requirement already satisfied: tornado>=6.1 in /usr/local/lib/python3.11/dist-packages (from ipykernel>=4.1->qtconsole>=4.7.2->Orange3==3.36.2) (6.4.2)\n",
            "Requirement already satisfied: platformdirs>=2.5 in /usr/local/lib/python3.11/dist-packages (from jupyter-core->qtconsole>=4.7.2->Orange3==3.36.2) (4.3.8)\n",
            "Requirement already satisfied: cryptography>=2.0 in /usr/local/lib/python3.11/dist-packages (from SecretStorage>=3.2->keyring->Orange3==3.36.2) (43.0.3)\n",
            "Requirement already satisfied: sniffio>=1.1 in /usr/local/lib/python3.11/dist-packages (from anyio->httpx>=0.21.0->Orange3==3.36.2) (1.3.1)\n",
            "Requirement already satisfied: more-itertools in /usr/local/lib/python3.11/dist-packages (from jaraco.classes->keyring->Orange3==3.36.2) (10.7.0)\n",
            "Requirement already satisfied: backports.tarfile in /usr/local/lib/python3.11/dist-packages (from jaraco.context->keyring->Orange3==3.36.2) (1.2.0)\n",
            "Requirement already satisfied: narwhals>=1.15.1 in /usr/local/lib/python3.11/dist-packages (from plotly->catboost>=1.0.1->Orange3==3.36.2) (1.40.0)\n",
            "Requirement already satisfied: attrs>=21.2 in /usr/local/lib/python3.11/dist-packages (from requests-cache->orange-canvas-core<0.2a,>=0.1.30->Orange3==3.36.2) (25.3.0)\n",
            "Requirement already satisfied: cattrs>=22.2 in /usr/local/lib/python3.11/dist-packages (from requests-cache->orange-canvas-core<0.2a,>=0.1.30->Orange3==3.36.2) (24.1.3)\n",
            "Requirement already satisfied: url-normalize>=1.4 in /usr/local/lib/python3.11/dist-packages (from requests-cache->orange-canvas-core<0.2a,>=0.1.30->Orange3==3.36.2) (2.2.1)\n",
            "Requirement already satisfied: cffi>=1.12 in /usr/local/lib/python3.11/dist-packages (from cryptography>=2.0->SecretStorage>=3.2->keyring->Orange3==3.36.2) (1.17.1)\n",
            "Requirement already satisfied: jedi>=0.16 in /usr/local/lib/python3.11/dist-packages (from ipython>=7.23.1->ipykernel>=4.1->qtconsole>=4.7.2->Orange3==3.36.2) (0.19.2)\n",
            "Requirement already satisfied: decorator in /usr/local/lib/python3.11/dist-packages (from ipython>=7.23.1->ipykernel>=4.1->qtconsole>=4.7.2->Orange3==3.36.2) (4.4.2)\n",
            "Requirement already satisfied: pickleshare in /usr/local/lib/python3.11/dist-packages (from ipython>=7.23.1->ipykernel>=4.1->qtconsole>=4.7.2->Orange3==3.36.2) (0.7.5)\n",
            "Requirement already satisfied: prompt-toolkit!=3.0.0,!=3.0.1,<3.1.0,>=2.0.0 in /usr/local/lib/python3.11/dist-packages (from ipython>=7.23.1->ipykernel>=4.1->qtconsole>=4.7.2->Orange3==3.36.2) (3.0.51)\n",
            "Requirement already satisfied: backcall in /usr/local/lib/python3.11/dist-packages (from ipython>=7.23.1->ipykernel>=4.1->qtconsole>=4.7.2->Orange3==3.36.2) (0.2.0)\n",
            "Requirement already satisfied: pexpect>4.3 in /usr/local/lib/python3.11/dist-packages (from ipython>=7.23.1->ipykernel>=4.1->qtconsole>=4.7.2->Orange3==3.36.2) (4.9.0)\n",
            "Requirement already satisfied: pycparser in /usr/local/lib/python3.11/dist-packages (from cffi>=1.12->cryptography>=2.0->SecretStorage>=3.2->keyring->Orange3==3.36.2) (2.22)\n",
            "Requirement already satisfied: parso<0.9.0,>=0.8.4 in /usr/local/lib/python3.11/dist-packages (from jedi>=0.16->ipython>=7.23.1->ipykernel>=4.1->qtconsole>=4.7.2->Orange3==3.36.2) (0.8.4)\n",
            "Requirement already satisfied: ptyprocess>=0.5 in /usr/local/lib/python3.11/dist-packages (from pexpect>4.3->ipython>=7.23.1->ipykernel>=4.1->qtconsole>=4.7.2->Orange3==3.36.2) (0.7.0)\n",
            "Requirement already satisfied: wcwidth in /usr/local/lib/python3.11/dist-packages (from prompt-toolkit!=3.0.0,!=3.0.1,<3.1.0,>=2.0.0->ipython>=7.23.1->ipykernel>=4.1->qtconsole>=4.7.2->Orange3==3.36.2) (0.2.13)\n"
          ]
        }
      ]
    },
    {
      "cell_type": "code",
      "source": [
        "import pandas as pd\n",
        "import numpy as np\n",
        "import seaborn as sns\n",
        "import matplotlib.pyplot as plt\n",
        "import plotly.express as px\n",
        "from sklearn.preprocessing import StandardScaler\n",
        "scaler = StandardScaler()\n",
        "from sklearn.model_selection import train_test_split\n",
        "import pickle\n",
        "import Orange\n",
        "from sklearn.neighbors import KNeighborsClassifier\n",
        "from sklearn.metrics import accuracy_score, classification_report\n",
        "from yellowbrick.classifier import ConfusionMatrix\n"
      ],
      "metadata": {
        "id": "nRhj6vWbb81t"
      },
      "execution_count": 107,
      "outputs": []
    },
    {
      "cell_type": "markdown",
      "source": [
        "### Carregamento de Datasets"
      ],
      "metadata": {
        "id": "av-cgMIWrjz6"
      }
    },
    {
      "cell_type": "code",
      "source": [
        "from google.colab import drive\n",
        "drive.mount('/content/drive')"
      ],
      "metadata": {
        "colab": {
          "base_uri": "https://localhost:8080/"
        },
        "id": "c3xDW738lmic",
        "outputId": "41322eba-9bba-4315-f3fc-0b4dcbce2bc6"
      },
      "execution_count": 72,
      "outputs": [
        {
          "output_type": "stream",
          "name": "stdout",
          "text": [
            "Drive already mounted at /content/drive; to attempt to forcibly remount, call drive.mount(\"/content/drive\", force_remount=True).\n"
          ]
        }
      ]
    },
    {
      "cell_type": "markdown",
      "source": [
        "#### Credit Rules Dataset"
      ],
      "metadata": {
        "id": "LDUN3f9gi3jo"
      }
    },
    {
      "cell_type": "code",
      "source": [
        "credit_data_table = Orange.data.Table('/content/drive/MyDrive/machine_learning_semestre_5/credit_data_regras.csv')\n",
        "credit_data_table"
      ],
      "metadata": {
        "id": "rfpPeLgp15IA",
        "colab": {
          "base_uri": "https://localhost:8080/"
        },
        "outputId": "7a9c9218-0d10-4653-f2b7-17e470d61853"
      },
      "execution_count": 75,
      "outputs": [
        {
          "output_type": "execute_result",
          "data": {
            "text/plain": [
              "[[66155.9, 59.017, 8106.53 | 0],\n",
              " [34415.2, 48.1172, 6564.75 | 0],\n",
              " [57317.2, 63.108, 8020.95 | 0],\n",
              " [42709.5, 45.752, 6103.64 | 0],\n",
              " [66952.7, 18.5843, 8770.1 | 1],\n",
              " ...\n",
              "]"
            ]
          },
          "metadata": {},
          "execution_count": 75
        }
      ]
    },
    {
      "cell_type": "code",
      "source": [
        "credit_data_table.domain"
      ],
      "metadata": {
        "colab": {
          "base_uri": "https://localhost:8080/"
        },
        "id": "h_pN2TwSWIb4",
        "outputId": "dfa4228a-1a48-4fe7-8bcb-874ac21b2a08"
      },
      "execution_count": 76,
      "outputs": [
        {
          "output_type": "execute_result",
          "data": {
            "text/plain": [
              "[income, age, loan | default]"
            ]
          },
          "metadata": {},
          "execution_count": 76
        }
      ]
    },
    {
      "cell_type": "markdown",
      "source": [
        "#### Census Rules Dataset"
      ],
      "metadata": {
        "id": "LeLHTsFCi60R"
      }
    },
    {
      "cell_type": "code",
      "source": [
        "with open('/content/drive/MyDrive/machine_learning_semestre_5/Pickle/census.pkl', 'rb') as f:\n",
        "  x_census_train, x_census_test, y_census_train, y_census_test = pickle.load(f)"
      ],
      "metadata": {
        "id": "xiUnL66niZZF"
      },
      "execution_count": 94,
      "outputs": []
    },
    {
      "cell_type": "code",
      "source": [
        "x_census_train.shape, y_census_train.shape"
      ],
      "metadata": {
        "colab": {
          "base_uri": "https://localhost:8080/"
        },
        "id": "fBUc426XijoF",
        "outputId": "68e29ed5-0f54-4c40-b1e4-d6851f31a7b0"
      },
      "execution_count": 98,
      "outputs": [
        {
          "output_type": "execute_result",
          "data": {
            "text/plain": [
              "((24420, 108), (24420,))"
            ]
          },
          "metadata": {},
          "execution_count": 98
        }
      ]
    },
    {
      "cell_type": "code",
      "source": [
        "x_census_test.shape, y_census_test.shape"
      ],
      "metadata": {
        "colab": {
          "base_uri": "https://localhost:8080/"
        },
        "id": "_-da8Mw1inS4",
        "outputId": "90709374-fd4d-44cc-b041-005af4ce935e"
      },
      "execution_count": 99,
      "outputs": [
        {
          "output_type": "execute_result",
          "data": {
            "text/plain": [
              "((8141, 108), (8141,))"
            ]
          },
          "metadata": {},
          "execution_count": 99
        }
      ]
    },
    {
      "cell_type": "markdown",
      "source": [
        "### Amostragem"
      ],
      "metadata": {
        "id": "6lyFMH8BVPve"
      }
    },
    {
      "cell_type": "code",
      "source": [
        "credit_data_sample = Orange.evaluation.testing.sample(credit_data_table, n=0.25)"
      ],
      "metadata": {
        "id": "tftM2aHOWLHL"
      },
      "execution_count": 78,
      "outputs": []
    },
    {
      "cell_type": "code",
      "source": [
        "credit_data_sample[0]\n",
        "credit_data_sample[1]"
      ],
      "metadata": {
        "colab": {
          "base_uri": "https://localhost:8080/"
        },
        "id": "BWIFY0dgXb1f",
        "outputId": "0a6eab0e-1322-4e9d-da1f-71e4efcf92fc"
      },
      "execution_count": 79,
      "outputs": [
        {
          "output_type": "execute_result",
          "data": {
            "text/plain": [
              "[[56275.4, 30.2499, 2224.88 | 0],\n",
              " [30216.3, 26.5637, 2116.54 | 0],\n",
              " [43440, 24.1795, 6879.31 | 1],\n",
              " [66370.7, 38.4055, 5906.03 | 0],\n",
              " [66952.7, 18.5843, 8770.1 | 1],\n",
              " ...\n",
              "]"
            ]
          },
          "metadata": {},
          "execution_count": 79
        }
      ]
    },
    {
      "cell_type": "code",
      "source": [
        "train_credit_data_sample = credit_data_sample[1]\n",
        "test_credit_data_sample = credit_data_sample[0]"
      ],
      "metadata": {
        "id": "WPOH8WvsW5Oz"
      },
      "execution_count": 80,
      "outputs": []
    },
    {
      "cell_type": "code",
      "source": [
        "len(train_credit_data_sample), len(test_credit_data_sample)"
      ],
      "metadata": {
        "colab": {
          "base_uri": "https://localhost:8080/"
        },
        "id": "XdroWFkRXCVU",
        "outputId": "b787a958-1111-4d9f-d709-18700cb1c23d"
      },
      "execution_count": 81,
      "outputs": [
        {
          "output_type": "execute_result",
          "data": {
            "text/plain": [
              "(1500, 500)"
            ]
          },
          "metadata": {},
          "execution_count": 81
        }
      ]
    },
    {
      "cell_type": "markdown",
      "source": [
        "### Ingestão e Treinamento Neural Modelo"
      ],
      "metadata": {
        "id": "l3V5Vq2PXFk2"
      }
    },
    {
      "cell_type": "markdown",
      "source": [
        "#### CN2"
      ],
      "metadata": {
        "id": "51LZdO1Dh5Wu"
      }
    },
    {
      "cell_type": "code",
      "source": [
        "cn2_credit = Orange.classification.rules.CN2Learner()\n",
        "credit_rules = cn2_credit(train_credit_data_sample)"
      ],
      "metadata": {
        "id": "7D7pC7qAXMEN"
      },
      "execution_count": 89,
      "outputs": []
    },
    {
      "cell_type": "code",
      "source": [
        "for rule in credit_rules.rule_list:\n",
        "  print(rule)"
      ],
      "metadata": {
        "colab": {
          "base_uri": "https://localhost:8080/"
        },
        "id": "DoaBDtgsX7m8",
        "outputId": "8d8c467b-2277-4127-ba25-11eb7d835976"
      },
      "execution_count": 90,
      "outputs": [
        {
          "output_type": "stream",
          "name": "stdout",
          "text": [
            "IF age>=34.9257164876908 THEN default=0 \n",
            "IF loan<=2495.13299137587 AND income>=20145.9885970689 THEN default=0 \n",
            "IF income<=31702.3342987522 AND loan>=3665.88089899456 THEN default=1 \n",
            "IF loan>=7708.31562497011 AND loan>=9601.375482171099 THEN default=1 \n",
            "IF loan>=7513.18286435755 AND loan>=9595.28628892989 THEN default=0 \n",
            "IF loan>=8066.69786524019 THEN default=1 \n",
            "IF income>=58147.7998569608 AND age>=22.939635145478 THEN default=0 \n",
            "IF loan>=6016.61509078929 AND loan>=7983.705373244459 THEN default=0 \n",
            "IF age<=22.4861360387877 AND income>=58609.13148382679 THEN default=0 \n",
            "IF loan>=6016.61509078929 AND age>=26.854012909811 THEN default=1 \n",
            "IF loan>=6053.79158149127 AND age>=26.7719294563867 THEN default=0 \n",
            "IF loan>=6053.79158149127 AND loan>=6361.97343810153 THEN default=1 \n",
            "IF income>=50360.6787929311 THEN default=0 \n",
            "IF income<=22089.8374845274 AND age>=23.238169600255798 THEN default=1 \n",
            "IF loan>=4849.33378471958 AND loan>=5862.83302915672 THEN default=1 \n",
            "IF income>=46132.9140514135 THEN default=0 \n",
            "IF loan>=4849.33378471958 AND loan>=5416.3577980789005 THEN default=1 \n",
            "IF income>=38042.0841556042 AND income>=41019.5487947203 THEN default=0 \n",
            "IF loan>=4285.38691174949 AND age>=24.4157260977663 THEN default=1 \n",
            "IF loan>=4849.33378471958 THEN default=1 \n",
            "IF income>=26617.0303151011 THEN default=0 \n",
            "IF age>=22.656479598488698 THEN default=1 \n",
            "IF income<=24857.6948815025 THEN default=0 \n",
            "IF TRUE THEN default=0 \n"
          ]
        }
      ]
    },
    {
      "cell_type": "markdown",
      "source": [
        "#### KNN"
      ],
      "metadata": {
        "id": "h_VzVBTuiCBW"
      }
    },
    {
      "cell_type": "code",
      "source": [
        "knn_census = KNeighborsClassifier(n_neighbors=10,)\n",
        "knn_census.fit(x_census_train, y_census_train)"
      ],
      "metadata": {
        "colab": {
          "base_uri": "https://localhost:8080/",
          "height": 75
        },
        "id": "HuR2xUpmiRq5",
        "outputId": "bb3830e8-d091-4715-e3b6-a8a4f1d6b6f6"
      },
      "execution_count": 100,
      "outputs": [
        {
          "output_type": "execute_result",
          "data": {
            "text/plain": [
              "KNeighborsClassifier(n_neighbors=10)"
            ],
            "text/html": [
              "<style>#sk-container-id-4 {color: black;}#sk-container-id-4 pre{padding: 0;}#sk-container-id-4 div.sk-toggleable {background-color: white;}#sk-container-id-4 label.sk-toggleable__label {cursor: pointer;display: block;width: 100%;margin-bottom: 0;padding: 0.3em;box-sizing: border-box;text-align: center;}#sk-container-id-4 label.sk-toggleable__label-arrow:before {content: \"▸\";float: left;margin-right: 0.25em;color: #696969;}#sk-container-id-4 label.sk-toggleable__label-arrow:hover:before {color: black;}#sk-container-id-4 div.sk-estimator:hover label.sk-toggleable__label-arrow:before {color: black;}#sk-container-id-4 div.sk-toggleable__content {max-height: 0;max-width: 0;overflow: hidden;text-align: left;background-color: #f0f8ff;}#sk-container-id-4 div.sk-toggleable__content pre {margin: 0.2em;color: black;border-radius: 0.25em;background-color: #f0f8ff;}#sk-container-id-4 input.sk-toggleable__control:checked~div.sk-toggleable__content {max-height: 200px;max-width: 100%;overflow: auto;}#sk-container-id-4 input.sk-toggleable__control:checked~label.sk-toggleable__label-arrow:before {content: \"▾\";}#sk-container-id-4 div.sk-estimator input.sk-toggleable__control:checked~label.sk-toggleable__label {background-color: #d4ebff;}#sk-container-id-4 div.sk-label input.sk-toggleable__control:checked~label.sk-toggleable__label {background-color: #d4ebff;}#sk-container-id-4 input.sk-hidden--visually {border: 0;clip: rect(1px 1px 1px 1px);clip: rect(1px, 1px, 1px, 1px);height: 1px;margin: -1px;overflow: hidden;padding: 0;position: absolute;width: 1px;}#sk-container-id-4 div.sk-estimator {font-family: monospace;background-color: #f0f8ff;border: 1px dotted black;border-radius: 0.25em;box-sizing: border-box;margin-bottom: 0.5em;}#sk-container-id-4 div.sk-estimator:hover {background-color: #d4ebff;}#sk-container-id-4 div.sk-parallel-item::after {content: \"\";width: 100%;border-bottom: 1px solid gray;flex-grow: 1;}#sk-container-id-4 div.sk-label:hover label.sk-toggleable__label {background-color: #d4ebff;}#sk-container-id-4 div.sk-serial::before {content: \"\";position: absolute;border-left: 1px solid gray;box-sizing: border-box;top: 0;bottom: 0;left: 50%;z-index: 0;}#sk-container-id-4 div.sk-serial {display: flex;flex-direction: column;align-items: center;background-color: white;padding-right: 0.2em;padding-left: 0.2em;position: relative;}#sk-container-id-4 div.sk-item {position: relative;z-index: 1;}#sk-container-id-4 div.sk-parallel {display: flex;align-items: stretch;justify-content: center;background-color: white;position: relative;}#sk-container-id-4 div.sk-item::before, #sk-container-id-4 div.sk-parallel-item::before {content: \"\";position: absolute;border-left: 1px solid gray;box-sizing: border-box;top: 0;bottom: 0;left: 50%;z-index: -1;}#sk-container-id-4 div.sk-parallel-item {display: flex;flex-direction: column;z-index: 1;position: relative;background-color: white;}#sk-container-id-4 div.sk-parallel-item:first-child::after {align-self: flex-end;width: 50%;}#sk-container-id-4 div.sk-parallel-item:last-child::after {align-self: flex-start;width: 50%;}#sk-container-id-4 div.sk-parallel-item:only-child::after {width: 0;}#sk-container-id-4 div.sk-dashed-wrapped {border: 1px dashed gray;margin: 0 0.4em 0.5em 0.4em;box-sizing: border-box;padding-bottom: 0.4em;background-color: white;}#sk-container-id-4 div.sk-label label {font-family: monospace;font-weight: bold;display: inline-block;line-height: 1.2em;}#sk-container-id-4 div.sk-label-container {text-align: center;}#sk-container-id-4 div.sk-container {/* jupyter's `normalize.less` sets `[hidden] { display: none; }` but bootstrap.min.css set `[hidden] { display: none !important; }` so we also need the `!important` here to be able to override the default hidden behavior on the sphinx rendered scikit-learn.org. See: https://github.com/scikit-learn/scikit-learn/issues/21755 */display: inline-block !important;position: relative;}#sk-container-id-4 div.sk-text-repr-fallback {display: none;}</style><div id=\"sk-container-id-4\" class=\"sk-top-container\"><div class=\"sk-text-repr-fallback\"><pre>KNeighborsClassifier(n_neighbors=10)</pre><b>In a Jupyter environment, please rerun this cell to show the HTML representation or trust the notebook. <br />On GitHub, the HTML representation is unable to render, please try loading this page with nbviewer.org.</b></div><div class=\"sk-container\" hidden><div class=\"sk-item\"><div class=\"sk-estimator sk-toggleable\"><input class=\"sk-toggleable__control sk-hidden--visually\" id=\"sk-estimator-id-4\" type=\"checkbox\" checked><label for=\"sk-estimator-id-4\" class=\"sk-toggleable__label sk-toggleable__label-arrow\">KNeighborsClassifier</label><div class=\"sk-toggleable__content\"><pre>KNeighborsClassifier(n_neighbors=10)</pre></div></div></div></div></div>"
            ]
          },
          "metadata": {},
          "execution_count": 100
        }
      ]
    },
    {
      "cell_type": "markdown",
      "source": [
        "### Avaliação Neural"
      ],
      "metadata": {
        "id": "I8NxVjOSe3u6"
      }
    },
    {
      "cell_type": "markdown",
      "source": [
        "#### CN2"
      ],
      "metadata": {
        "id": "CbqmOpnqh9j-"
      }
    },
    {
      "cell_type": "code",
      "source": [
        "rules_predictors = Orange.evaluation.testing.TestOnTestData(train_credit_data_sample, test_credit_data_sample, [lambda test_data: credit_rules])"
      ],
      "metadata": {
        "id": "Xx18QPw7e-7S"
      },
      "execution_count": 91,
      "outputs": []
    },
    {
      "cell_type": "code",
      "source": [
        "Orange.evaluation.CA(rules_predictors)"
      ],
      "metadata": {
        "colab": {
          "base_uri": "https://localhost:8080/"
        },
        "id": "dzE2cDX2fQ6z",
        "outputId": "57883e36-2670-44e1-e3b8-a717d1d8fed6"
      },
      "execution_count": 92,
      "outputs": [
        {
          "output_type": "execute_result",
          "data": {
            "text/plain": [
              "array([0.986])"
            ]
          },
          "metadata": {},
          "execution_count": 92
        }
      ]
    },
    {
      "cell_type": "markdown",
      "source": [
        "#### KNN"
      ],
      "metadata": {
        "id": "MZwJWwg7jim7"
      }
    },
    {
      "cell_type": "code",
      "source": [
        "knn_predictors = knn_census.predict(x_census_test)"
      ],
      "metadata": {
        "id": "HnRVB-8ljjzR"
      },
      "execution_count": 101,
      "outputs": []
    },
    {
      "cell_type": "code",
      "source": [
        "accuracy_score(y_census_test, knn_predictors)"
      ],
      "metadata": {
        "colab": {
          "base_uri": "https://localhost:8080/"
        },
        "id": "dMv3GSNtkGrp",
        "outputId": "b82d0fb8-43c7-4d7a-e1c1-ab2deaefe3c2"
      },
      "execution_count": 102,
      "outputs": [
        {
          "output_type": "execute_result",
          "data": {
            "text/plain": [
              "0.8301191499815748"
            ]
          },
          "metadata": {},
          "execution_count": 102
        }
      ]
    },
    {
      "cell_type": "code",
      "source": [
        "knn_confusion_matrix = ConfusionMatrix(knn_census)\n",
        "knn_confusion_matrix.fit(x_census_train, y_census_train)\n",
        "knn_confusion_matrix.score(x_census_test, y_census_test)"
      ],
      "metadata": {
        "colab": {
          "base_uri": "https://localhost:8080/",
          "height": 496
        },
        "id": "LVyEMJUTlE1g",
        "outputId": "cd46c117-fcd3-47bc-8107-e489d2c5251e"
      },
      "execution_count": 106,
      "outputs": [
        {
          "output_type": "execute_result",
          "data": {
            "text/plain": [
              "0.8301191499815748"
            ]
          },
          "metadata": {},
          "execution_count": 106
        },
        {
          "output_type": "display_data",
          "data": {
            "text/plain": [
              "<Figure size 800x550 with 1 Axes>"
            ],
            "image/png": "[encoded data removed]"
          },
          "metadata": {}
        }
      ]
    },
    {
      "cell_type": "code",
      "source": [
        "print(classification_report(y_census_test, knn_predictors))"
      ],
      "metadata": {
        "colab": {
          "base_uri": "https://localhost:8080/"
        },
        "id": "tIopMy57ldR0",
        "outputId": "20ea0d9c-e070-4322-f0cd-5de0510bbfa9"
      },
      "execution_count": 108,
      "outputs": [
        {
          "output_type": "stream",
          "name": "stdout",
          "text": [
            "              precision    recall  f1-score   support\n",
            "\n",
            "           0       0.86      0.93      0.89      6159\n",
            "           1       0.71      0.52      0.60      1982\n",
            "\n",
            "    accuracy                           0.83      8141\n",
            "   macro avg       0.78      0.72      0.74      8141\n",
            "weighted avg       0.82      0.83      0.82      8141\n",
            "\n"
          ]
        }
      ]
    }
  ]
}