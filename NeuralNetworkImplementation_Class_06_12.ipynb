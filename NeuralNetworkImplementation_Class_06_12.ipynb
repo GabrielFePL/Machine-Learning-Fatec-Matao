{
  "nbformat": 4,
  "nbformat_minor": 0,
  "metadata": {
    "colab": {
      "provenance": [],
      "collapsed_sections": [
        "w1J7UTPjb0K0",
        "av-cgMIWrjz6"
      ],
      "authorship_tag": "ABX9TyNj7S9a3fGWKryZO0KGMOxP",
      "include_colab_link": true
    },
    "kernelspec": {
      "name": "python3",
      "display_name": "Python 3"
    },
    "language_info": {
      "name": "python"
    }
  },
  "cells": [
    {
      "cell_type": "markdown",
      "metadata": {
        "id": "view-in-github",
        "colab_type": "text"
      },
      "source": [
        "<a href=\"https://colab.research.google.com/github/GabrielFePL/Machine-Learning-Fatec-Matao/blob/main/NeuralNetworkImplementation_Class_06_12.ipynb\" target=\"_parent\"><img src=\"https://colab.research.google.com/assets/colab-badge.svg\" alt=\"Open In Colab\"/></a>"
      ]
    },
    {
      "cell_type": "markdown",
      "source": [
        "# Machine Learning - Fatec Matão"
      ],
      "metadata": {
        "id": "hvkrzeyyY_4m"
      }
    },
    {
      "cell_type": "markdown",
      "source": [
        "## Pré-Processamento de Dados"
      ],
      "metadata": {
        "id": "QO4GAKcA7tjA"
      }
    },
    {
      "cell_type": "markdown",
      "source": [
        "### Importação de Bibliotecas"
      ],
      "metadata": {
        "id": "w1J7UTPjb0K0"
      }
    },
    {
      "cell_type": "markdown",
      "source": [
        "* O pandas é uma biblioteca do Python usada para manipulação e análise de dados, oferecendo estruturas como DataFrame e Series para organizar, filtrar, transformar e visualizar dados de forma eficiente. Documentação: https://pandas.pydata.org/docs/\n",
        "\n",
        "* O NumPy é uma biblioteca do Python para cálculos numéricos, oferecendo arrays multidimensionais eficientes e funções matemáticas otimizadas para operações científicas e estatísticas. Documentação: https://numpy.org/doc/\n",
        "\n",
        "* O Seaborn é uma biblioteca do Python para visualização de dados, baseada no Matplotlib, que facilita a criação de gráficos estatísticos elegantes e informativos com menos código. Documentação: https://seaborn.pydata.org/\n",
        "\n",
        "* O matplotlib.pyplot é um módulo do Matplotlib que permite criar gráficos estáticos, interativos e personalizados em Python, sendo amplamente usado para visualização de dados. Documentação: https://matplotlib.org/3.5.3/api/_as_gen/matplotlib.pyplot.html\n",
        "\n",
        "* O plotly.express é uma biblioteca do Python para criar gráficos interativos e dinâmicos de forma simples, permitindo visualizações ricas e personalizáveis com poucos comandos. Documentação: https://plotly.com/python-api-reference/plotly.express.html\n",
        "\n",
        "* O sklearn.preprocessing.StandardScaler é uma ferramenta do Scikit-learn para padronizar dados, centralizando a média em 0 e a variância em 1. Documentação: https://scikit-learn.org/stable/modules/generated/sklearn.preprocessing.StandardScaler.html\n",
        "\n",
        "* O sklearn.model_selection.train_test_split é uma função do Scikit-learn para dividir conjuntos de dados em treinos e testes de forma aleatória. Documentação: https://scikit-learn.org/stable/modules/generated/sklearn.model_selection.train_test_split.html\n",
        "\n",
        "* O pickle é um módulo do Python para serialização e desserialização de objetos Python, permitindo salvar e carregar modelos treinados. Documentação: https://docs.python.org/pt-br/dev/library/pickle.html"
      ],
      "metadata": {
        "id": "qmnT_xCEfuxH"
      }
    },
    {
      "cell_type": "code",
      "source": [
        "!pip install plotly --upgrade\n",
        "!pip install Orange3==3.36.2"
      ],
      "metadata": {
        "colab": {
          "base_uri": "https://localhost:8080/"
        },
        "id": "Ri-qBKbQh_5d",
        "outputId": "e5f64fcd-3318-4e29-f429-7217aa6b777b"
      },
      "execution_count": 45,
      "outputs": [
        {
          "output_type": "stream",
          "name": "stdout",
          "text": [
            "Requirement already satisfied: plotly in /usr/local/lib/python3.11/dist-packages (6.1.2)\n",
            "Requirement already satisfied: narwhals>=1.15.1 in /usr/local/lib/python3.11/dist-packages (from plotly) (1.41.0)\n",
            "Requirement already satisfied: packaging in /usr/local/lib/python3.11/dist-packages (from plotly) (24.2)\n",
            "Requirement already satisfied: Orange3==3.36.2 in /usr/local/lib/python3.11/dist-packages (3.36.2)\n",
            "Requirement already satisfied: AnyQt>=0.2.0 in /usr/local/lib/python3.11/dist-packages (from Orange3==3.36.2) (0.2.1)\n",
            "Requirement already satisfied: baycomp>=1.0.2 in /usr/local/lib/python3.11/dist-packages (from Orange3==3.36.2) (1.0.3)\n",
            "Requirement already satisfied: bottleneck>=1.3.4 in /usr/local/lib/python3.11/dist-packages (from Orange3==3.36.2) (1.4.2)\n",
            "Requirement already satisfied: catboost>=1.0.1 in /usr/local/lib/python3.11/dist-packages (from Orange3==3.36.2) (1.2.8)\n",
            "Requirement already satisfied: chardet>=3.0.2 in /usr/local/lib/python3.11/dist-packages (from Orange3==3.36.2) (5.2.0)\n",
            "Requirement already satisfied: httpx>=0.21.0 in /usr/local/lib/python3.11/dist-packages (from Orange3==3.36.2) (0.28.1)\n",
            "Requirement already satisfied: joblib>=1.0.0 in /usr/local/lib/python3.11/dist-packages (from Orange3==3.36.2) (1.5.1)\n",
            "Requirement already satisfied: keyring in /usr/local/lib/python3.11/dist-packages (from Orange3==3.36.2) (25.6.0)\n",
            "Requirement already satisfied: keyrings.alt in /usr/local/lib/python3.11/dist-packages (from Orange3==3.36.2) (5.0.2)\n",
            "Requirement already satisfied: matplotlib>=3.2.0 in /usr/local/lib/python3.11/dist-packages (from Orange3==3.36.2) (3.10.0)\n",
            "Requirement already satisfied: networkx in /usr/local/lib/python3.11/dist-packages (from Orange3==3.36.2) (3.5)\n",
            "Requirement already satisfied: numpy>=1.20.0 in /usr/local/lib/python3.11/dist-packages (from Orange3==3.36.2) (1.26.4)\n",
            "Requirement already satisfied: openTSNE!=0.7.0,>=0.6.1 in /usr/local/lib/python3.11/dist-packages (from Orange3==3.36.2) (1.0.2)\n",
            "Requirement already satisfied: openpyxl in /usr/local/lib/python3.11/dist-packages (from Orange3==3.36.2) (3.1.5)\n",
            "Requirement already satisfied: orange-canvas-core<0.2a,>=0.1.30 in /usr/local/lib/python3.11/dist-packages (from Orange3==3.36.2) (0.1.35)\n",
            "Requirement already satisfied: orange-widget-base>=4.22.0 in /usr/local/lib/python3.11/dist-packages (from Orange3==3.36.2) (4.22.0)\n",
            "Requirement already satisfied: pandas!=1.5.0,!=2.0.0,>=1.4.0 in /usr/local/lib/python3.11/dist-packages (from Orange3==3.36.2) (2.2.2)\n",
            "Requirement already satisfied: pip>=18.0 in /usr/local/lib/python3.11/dist-packages (from Orange3==3.36.2) (24.1.2)\n",
            "Requirement already satisfied: pygments>=2.8.0 in /usr/local/lib/python3.11/dist-packages (from Orange3==3.36.2) (2.19.1)\n",
            "Requirement already satisfied: pyqtgraph>=0.13.1 in /usr/local/lib/python3.11/dist-packages (from Orange3==3.36.2) (0.13.7)\n",
            "Requirement already satisfied: python-louvain>=0.13 in /usr/local/lib/python3.11/dist-packages (from Orange3==3.36.2) (0.16)\n",
            "Requirement already satisfied: pyyaml in /usr/local/lib/python3.11/dist-packages (from Orange3==3.36.2) (6.0.2)\n",
            "Requirement already satisfied: qtconsole>=4.7.2 in /usr/local/lib/python3.11/dist-packages (from Orange3==3.36.2) (5.6.1)\n",
            "Requirement already satisfied: requests in /usr/local/lib/python3.11/dist-packages (from Orange3==3.36.2) (2.32.3)\n",
            "Requirement already satisfied: scikit-learn!=1.2.*,<1.4,>=1.1.0 in /usr/local/lib/python3.11/dist-packages (from Orange3==3.36.2) (1.3.2)\n",
            "Requirement already satisfied: scipy>=1.9 in /usr/local/lib/python3.11/dist-packages (from Orange3==3.36.2) (1.15.3)\n",
            "Requirement already satisfied: serverfiles in /usr/local/lib/python3.11/dist-packages (from Orange3==3.36.2) (0.3.1)\n",
            "Requirement already satisfied: setuptools>=51.0.0 in /usr/local/lib/python3.11/dist-packages (from Orange3==3.36.2) (75.2.0)\n",
            "Requirement already satisfied: xgboost>=1.7.4 in /usr/local/lib/python3.11/dist-packages (from Orange3==3.36.2) (2.1.4)\n",
            "Requirement already satisfied: xlrd>=1.2.0 in /usr/local/lib/python3.11/dist-packages (from Orange3==3.36.2) (2.0.1)\n",
            "Requirement already satisfied: xlsxwriter in /usr/local/lib/python3.11/dist-packages (from Orange3==3.36.2) (3.2.3)\n",
            "Requirement already satisfied: graphviz in /usr/local/lib/python3.11/dist-packages (from catboost>=1.0.1->Orange3==3.36.2) (0.20.3)\n",
            "Requirement already satisfied: plotly in /usr/local/lib/python3.11/dist-packages (from catboost>=1.0.1->Orange3==3.36.2) (6.1.2)\n",
            "Requirement already satisfied: six in /usr/local/lib/python3.11/dist-packages (from catboost>=1.0.1->Orange3==3.36.2) (1.17.0)\n",
            "Requirement already satisfied: anyio in /usr/local/lib/python3.11/dist-packages (from httpx>=0.21.0->Orange3==3.36.2) (4.9.0)\n",
            "Requirement already satisfied: certifi in /usr/local/lib/python3.11/dist-packages (from httpx>=0.21.0->Orange3==3.36.2) (2025.4.26)\n",
            "Requirement already satisfied: httpcore==1.* in /usr/local/lib/python3.11/dist-packages (from httpx>=0.21.0->Orange3==3.36.2) (1.0.9)\n",
            "Requirement already satisfied: idna in /usr/local/lib/python3.11/dist-packages (from httpx>=0.21.0->Orange3==3.36.2) (3.10)\n",
            "Requirement already satisfied: h11>=0.16 in /usr/local/lib/python3.11/dist-packages (from httpcore==1.*->httpx>=0.21.0->Orange3==3.36.2) (0.16.0)\n",
            "Requirement already satisfied: contourpy>=1.0.1 in /usr/local/lib/python3.11/dist-packages (from matplotlib>=3.2.0->Orange3==3.36.2) (1.3.2)\n",
            "Requirement already satisfied: cycler>=0.10 in /usr/local/lib/python3.11/dist-packages (from matplotlib>=3.2.0->Orange3==3.36.2) (0.12.1)\n",
            "Requirement already satisfied: fonttools>=4.22.0 in /usr/local/lib/python3.11/dist-packages (from matplotlib>=3.2.0->Orange3==3.36.2) (4.58.1)\n",
            "Requirement already satisfied: kiwisolver>=1.3.1 in /usr/local/lib/python3.11/dist-packages (from matplotlib>=3.2.0->Orange3==3.36.2) (1.4.8)\n",
            "Requirement already satisfied: packaging>=20.0 in /usr/local/lib/python3.11/dist-packages (from matplotlib>=3.2.0->Orange3==3.36.2) (24.2)\n",
            "Requirement already satisfied: pillow>=8 in /usr/local/lib/python3.11/dist-packages (from matplotlib>=3.2.0->Orange3==3.36.2) (11.2.1)\n",
            "Requirement already satisfied: pyparsing>=2.3.1 in /usr/local/lib/python3.11/dist-packages (from matplotlib>=3.2.0->Orange3==3.36.2) (3.2.3)\n",
            "Requirement already satisfied: python-dateutil>=2.7 in /usr/local/lib/python3.11/dist-packages (from matplotlib>=3.2.0->Orange3==3.36.2) (2.9.0.post0)\n",
            "Requirement already satisfied: docutils in /usr/local/lib/python3.11/dist-packages (from orange-canvas-core<0.2a,>=0.1.30->Orange3==3.36.2) (0.21.2)\n",
            "Requirement already satisfied: commonmark>=0.8.1 in /usr/local/lib/python3.11/dist-packages (from orange-canvas-core<0.2a,>=0.1.30->Orange3==3.36.2) (0.9.1)\n",
            "Requirement already satisfied: requests-cache in /usr/local/lib/python3.11/dist-packages (from orange-canvas-core<0.2a,>=0.1.30->Orange3==3.36.2) (1.2.1)\n",
            "Requirement already satisfied: dictdiffer in /usr/local/lib/python3.11/dist-packages (from orange-canvas-core<0.2a,>=0.1.30->Orange3==3.36.2) (0.9.0)\n",
            "Requirement already satisfied: qasync>=0.10.0 in /usr/local/lib/python3.11/dist-packages (from orange-canvas-core<0.2a,>=0.1.30->Orange3==3.36.2) (0.27.1)\n",
            "Requirement already satisfied: typing-extensions>=3.7.4.3 in /usr/local/lib/python3.11/dist-packages (from orange-widget-base>=4.22.0->Orange3==3.36.2) (4.14.0)\n",
            "Requirement already satisfied: pytz>=2020.1 in /usr/local/lib/python3.11/dist-packages (from pandas!=1.5.0,!=2.0.0,>=1.4.0->Orange3==3.36.2) (2025.2)\n",
            "Requirement already satisfied: tzdata>=2022.7 in /usr/local/lib/python3.11/dist-packages (from pandas!=1.5.0,!=2.0.0,>=1.4.0->Orange3==3.36.2) (2025.2)\n",
            "Requirement already satisfied: traitlets!=5.2.1,!=5.2.2 in /usr/local/lib/python3.11/dist-packages (from qtconsole>=4.7.2->Orange3==3.36.2) (5.7.1)\n",
            "Requirement already satisfied: jupyter-core in /usr/local/lib/python3.11/dist-packages (from qtconsole>=4.7.2->Orange3==3.36.2) (5.8.1)\n",
            "Requirement already satisfied: jupyter-client>=4.1 in /usr/local/lib/python3.11/dist-packages (from qtconsole>=4.7.2->Orange3==3.36.2) (6.1.12)\n",
            "Requirement already satisfied: ipykernel>=4.1 in /usr/local/lib/python3.11/dist-packages (from qtconsole>=4.7.2->Orange3==3.36.2) (6.17.1)\n",
            "Requirement already satisfied: qtpy>=2.4.0 in /usr/local/lib/python3.11/dist-packages (from qtconsole>=4.7.2->Orange3==3.36.2) (2.4.3)\n",
            "Requirement already satisfied: threadpoolctl>=2.0.0 in /usr/local/lib/python3.11/dist-packages (from scikit-learn!=1.2.*,<1.4,>=1.1.0->Orange3==3.36.2) (3.6.0)\n",
            "Requirement already satisfied: nvidia-nccl-cu12 in /usr/local/lib/python3.11/dist-packages (from xgboost>=1.7.4->Orange3==3.36.2) (2.21.5)\n",
            "Requirement already satisfied: SecretStorage>=3.2 in /usr/local/lib/python3.11/dist-packages (from keyring->Orange3==3.36.2) (3.3.3)\n",
            "Requirement already satisfied: jeepney>=0.4.2 in /usr/local/lib/python3.11/dist-packages (from keyring->Orange3==3.36.2) (0.9.0)\n",
            "Requirement already satisfied: importlib_metadata>=4.11.4 in /usr/local/lib/python3.11/dist-packages (from keyring->Orange3==3.36.2) (8.7.0)\n",
            "Requirement already satisfied: jaraco.classes in /usr/local/lib/python3.11/dist-packages (from keyring->Orange3==3.36.2) (3.4.0)\n",
            "Requirement already satisfied: jaraco.functools in /usr/local/lib/python3.11/dist-packages (from keyring->Orange3==3.36.2) (4.1.0)\n",
            "Requirement already satisfied: jaraco.context in /usr/local/lib/python3.11/dist-packages (from keyring->Orange3==3.36.2) (6.0.1)\n",
            "Requirement already satisfied: et-xmlfile in /usr/local/lib/python3.11/dist-packages (from openpyxl->Orange3==3.36.2) (2.0.0)\n",
            "Requirement already satisfied: charset-normalizer<4,>=2 in /usr/local/lib/python3.11/dist-packages (from requests->Orange3==3.36.2) (3.4.2)\n",
            "Requirement already satisfied: urllib3<3,>=1.21.1 in /usr/local/lib/python3.11/dist-packages (from requests->Orange3==3.36.2) (2.4.0)\n",
            "Requirement already satisfied: zipp>=3.20 in /usr/local/lib/python3.11/dist-packages (from importlib_metadata>=4.11.4->keyring->Orange3==3.36.2) (3.22.0)\n",
            "Requirement already satisfied: debugpy>=1.0 in /usr/local/lib/python3.11/dist-packages (from ipykernel>=4.1->qtconsole>=4.7.2->Orange3==3.36.2) (1.8.0)\n",
            "Requirement already satisfied: ipython>=7.23.1 in /usr/local/lib/python3.11/dist-packages (from ipykernel>=4.1->qtconsole>=4.7.2->Orange3==3.36.2) (7.34.0)\n",
            "Requirement already satisfied: matplotlib-inline>=0.1 in /usr/local/lib/python3.11/dist-packages (from ipykernel>=4.1->qtconsole>=4.7.2->Orange3==3.36.2) (0.1.7)\n",
            "Requirement already satisfied: nest-asyncio in /usr/local/lib/python3.11/dist-packages (from ipykernel>=4.1->qtconsole>=4.7.2->Orange3==3.36.2) (1.6.0)\n",
            "Requirement already satisfied: psutil in /usr/local/lib/python3.11/dist-packages (from ipykernel>=4.1->qtconsole>=4.7.2->Orange3==3.36.2) (5.9.5)\n",
            "Requirement already satisfied: pyzmq>=17 in /usr/local/lib/python3.11/dist-packages (from ipykernel>=4.1->qtconsole>=4.7.2->Orange3==3.36.2) (24.0.1)\n",
            "Requirement already satisfied: tornado>=6.1 in /usr/local/lib/python3.11/dist-packages (from ipykernel>=4.1->qtconsole>=4.7.2->Orange3==3.36.2) (6.4.2)\n",
            "Requirement already satisfied: platformdirs>=2.5 in /usr/local/lib/python3.11/dist-packages (from jupyter-core->qtconsole>=4.7.2->Orange3==3.36.2) (4.3.8)\n",
            "Requirement already satisfied: cryptography>=2.0 in /usr/local/lib/python3.11/dist-packages (from SecretStorage>=3.2->keyring->Orange3==3.36.2) (43.0.3)\n",
            "Requirement already satisfied: sniffio>=1.1 in /usr/local/lib/python3.11/dist-packages (from anyio->httpx>=0.21.0->Orange3==3.36.2) (1.3.1)\n",
            "Requirement already satisfied: more-itertools in /usr/local/lib/python3.11/dist-packages (from jaraco.classes->keyring->Orange3==3.36.2) (10.7.0)\n",
            "Requirement already satisfied: backports.tarfile in /usr/local/lib/python3.11/dist-packages (from jaraco.context->keyring->Orange3==3.36.2) (1.2.0)\n",
            "Requirement already satisfied: narwhals>=1.15.1 in /usr/local/lib/python3.11/dist-packages (from plotly->catboost>=1.0.1->Orange3==3.36.2) (1.41.0)\n",
            "Requirement already satisfied: attrs>=21.2 in /usr/local/lib/python3.11/dist-packages (from requests-cache->orange-canvas-core<0.2a,>=0.1.30->Orange3==3.36.2) (25.3.0)\n",
            "Requirement already satisfied: cattrs>=22.2 in /usr/local/lib/python3.11/dist-packages (from requests-cache->orange-canvas-core<0.2a,>=0.1.30->Orange3==3.36.2) (25.1.1)\n",
            "Requirement already satisfied: url-normalize>=1.4 in /usr/local/lib/python3.11/dist-packages (from requests-cache->orange-canvas-core<0.2a,>=0.1.30->Orange3==3.36.2) (2.2.1)\n",
            "Requirement already satisfied: cffi>=1.12 in /usr/local/lib/python3.11/dist-packages (from cryptography>=2.0->SecretStorage>=3.2->keyring->Orange3==3.36.2) (1.17.1)\n",
            "Requirement already satisfied: jedi>=0.16 in /usr/local/lib/python3.11/dist-packages (from ipython>=7.23.1->ipykernel>=4.1->qtconsole>=4.7.2->Orange3==3.36.2) (0.19.2)\n",
            "Requirement already satisfied: decorator in /usr/local/lib/python3.11/dist-packages (from ipython>=7.23.1->ipykernel>=4.1->qtconsole>=4.7.2->Orange3==3.36.2) (4.4.2)\n",
            "Requirement already satisfied: pickleshare in /usr/local/lib/python3.11/dist-packages (from ipython>=7.23.1->ipykernel>=4.1->qtconsole>=4.7.2->Orange3==3.36.2) (0.7.5)\n",
            "Requirement already satisfied: prompt-toolkit!=3.0.0,!=3.0.1,<3.1.0,>=2.0.0 in /usr/local/lib/python3.11/dist-packages (from ipython>=7.23.1->ipykernel>=4.1->qtconsole>=4.7.2->Orange3==3.36.2) (3.0.51)\n",
            "Requirement already satisfied: backcall in /usr/local/lib/python3.11/dist-packages (from ipython>=7.23.1->ipykernel>=4.1->qtconsole>=4.7.2->Orange3==3.36.2) (0.2.0)\n",
            "Requirement already satisfied: pexpect>4.3 in /usr/local/lib/python3.11/dist-packages (from ipython>=7.23.1->ipykernel>=4.1->qtconsole>=4.7.2->Orange3==3.36.2) (4.9.0)\n",
            "Requirement already satisfied: pycparser in /usr/local/lib/python3.11/dist-packages (from cffi>=1.12->cryptography>=2.0->SecretStorage>=3.2->keyring->Orange3==3.36.2) (2.22)\n",
            "Requirement already satisfied: parso<0.9.0,>=0.8.4 in /usr/local/lib/python3.11/dist-packages (from jedi>=0.16->ipython>=7.23.1->ipykernel>=4.1->qtconsole>=4.7.2->Orange3==3.36.2) (0.8.4)\n",
            "Requirement already satisfied: ptyprocess>=0.5 in /usr/local/lib/python3.11/dist-packages (from pexpect>4.3->ipython>=7.23.1->ipykernel>=4.1->qtconsole>=4.7.2->Orange3==3.36.2) (0.7.0)\n",
            "Requirement already satisfied: wcwidth in /usr/local/lib/python3.11/dist-packages (from prompt-toolkit!=3.0.0,!=3.0.1,<3.1.0,>=2.0.0->ipython>=7.23.1->ipykernel>=4.1->qtconsole>=4.7.2->Orange3==3.36.2) (0.2.13)\n"
          ]
        }
      ]
    },
    {
      "cell_type": "code",
      "source": [
        "import pandas as pd\n",
        "import numpy as np\n",
        "import seaborn as sns\n",
        "import matplotlib.pyplot as plt\n",
        "import plotly.express as px\n",
        "from sklearn.preprocessing import StandardScaler\n",
        "scaler = StandardScaler()\n",
        "from sklearn.model_selection import train_test_split\n",
        "import pickle\n",
        "import Orange\n",
        "from sklearn.neighbors import KNeighborsClassifier\n",
        "from sklearn.metrics import accuracy_score, classification_report\n",
        "from yellowbrick.classifier import ConfusionMatrix\n",
        "from sklearn.neural_network import MLPClassifier"
      ],
      "metadata": {
        "id": "nRhj6vWbb81t"
      },
      "execution_count": 46,
      "outputs": []
    },
    {
      "cell_type": "markdown",
      "source": [
        "### Carregamento de Datasets"
      ],
      "metadata": {
        "id": "av-cgMIWrjz6"
      }
    },
    {
      "cell_type": "code",
      "source": [
        "from google.colab import drive\n",
        "drive.mount('/content/drive')"
      ],
      "metadata": {
        "colab": {
          "base_uri": "https://localhost:8080/"
        },
        "id": "c3xDW738lmic",
        "outputId": "41b2f7ab-571f-4be7-f5a1-aa2d75f6f846"
      },
      "execution_count": 47,
      "outputs": [
        {
          "output_type": "stream",
          "name": "stdout",
          "text": [
            "Drive already mounted at /content/drive; to attempt to forcibly remount, call drive.mount(\"/content/drive\", force_remount=True).\n"
          ]
        }
      ]
    },
    {
      "cell_type": "markdown",
      "source": [
        "#### Credit Rules Dataset"
      ],
      "metadata": {
        "id": "LDUN3f9gi3jo"
      }
    },
    {
      "cell_type": "code",
      "source": [
        "credit_data_table = Orange.data.Table('/content/drive/MyDrive/machine_learning_semestre_5/credit_data_regras.csv')\n",
        "credit_data_table"
      ],
      "metadata": {
        "id": "rfpPeLgp15IA",
        "colab": {
          "base_uri": "https://localhost:8080/"
        },
        "outputId": "3e96c992-b430-457e-b053-9eca99fa43f9"
      },
      "execution_count": 48,
      "outputs": [
        {
          "output_type": "execute_result",
          "data": {
            "text/plain": [
              "[[66155.9, 59.017, 8106.53 | 0],\n",
              " [34415.2, 48.1172, 6564.75 | 0],\n",
              " [57317.2, 63.108, 8020.95 | 0],\n",
              " [42709.5, 45.752, 6103.64 | 0],\n",
              " [66952.7, 18.5843, 8770.1 | 1],\n",
              " ...\n",
              "]"
            ]
          },
          "metadata": {},
          "execution_count": 48
        }
      ]
    },
    {
      "cell_type": "code",
      "source": [
        "credit_data_table.domain"
      ],
      "metadata": {
        "colab": {
          "base_uri": "https://localhost:8080/"
        },
        "id": "h_pN2TwSWIb4",
        "outputId": "efd7335a-5711-43af-8519-f154af4c1987"
      },
      "execution_count": 49,
      "outputs": [
        {
          "output_type": "execute_result",
          "data": {
            "text/plain": [
              "[income, age, loan | default]"
            ]
          },
          "metadata": {},
          "execution_count": 49
        }
      ]
    },
    {
      "cell_type": "markdown",
      "source": [
        "#### Census Pickle Dataset"
      ],
      "metadata": {
        "id": "LeLHTsFCi60R"
      }
    },
    {
      "cell_type": "code",
      "source": [
        "with open('/content/drive/MyDrive/machine_learning_semestre_5/Pickle/census.pkl', 'rb') as f:\n",
        "  x_census_train, x_census_test, y_census_train, y_census_test = pickle.load(f)"
      ],
      "metadata": {
        "id": "xiUnL66niZZF"
      },
      "execution_count": 50,
      "outputs": []
    },
    {
      "cell_type": "code",
      "source": [
        "x_census_train.shape, y_census_train.shape"
      ],
      "metadata": {
        "colab": {
          "base_uri": "https://localhost:8080/"
        },
        "id": "fBUc426XijoF",
        "outputId": "6ef7b3d6-b53e-4874-a355-a7a9edb4cf38"
      },
      "execution_count": 51,
      "outputs": [
        {
          "output_type": "execute_result",
          "data": {
            "text/plain": [
              "((24420, 108), (24420,))"
            ]
          },
          "metadata": {},
          "execution_count": 51
        }
      ]
    },
    {
      "cell_type": "code",
      "source": [
        "x_census_test.shape, y_census_test.shape"
      ],
      "metadata": {
        "colab": {
          "base_uri": "https://localhost:8080/"
        },
        "id": "_-da8Mw1inS4",
        "outputId": "7c784c69-514d-4a75-bc82-09ab1d13db34"
      },
      "execution_count": 52,
      "outputs": [
        {
          "output_type": "execute_result",
          "data": {
            "text/plain": [
              "((8141, 108), (8141,))"
            ]
          },
          "metadata": {},
          "execution_count": 52
        }
      ]
    },
    {
      "cell_type": "markdown",
      "source": [
        "### Credit Pickle Dataset"
      ],
      "metadata": {
        "id": "4l6mwJzyi75M"
      }
    },
    {
      "cell_type": "code",
      "source": [
        "with open('/content/drive/MyDrive/machine_learning_semestre_5/Pickle/credit.pkl', 'rb') as f:\n",
        "  x_credit_train, x_credit_test, y_credit_train, y_credit_test = pickle.load(f)"
      ],
      "metadata": {
        "id": "A7_-ZPbpi_Aq"
      },
      "execution_count": 70,
      "outputs": []
    },
    {
      "cell_type": "code",
      "source": [
        "x_credit_train, x_credit_test"
      ],
      "metadata": {
        "colab": {
          "base_uri": "https://localhost:8080/"
        },
        "id": "InW1uwz6jMQO",
        "outputId": "10bd78ab-77b8-46f1-c051-5fb616f77b06"
      },
      "execution_count": 71,
      "outputs": [
        {
          "output_type": "execute_result",
          "data": {
            "text/plain": [
              "(array([[-1.3754462 ,  0.50630999,  0.10980934],\n",
              "        [ 1.45826409, -1.64894017, -1.21501497],\n",
              "        [-0.79356829,  0.22531104, -0.43370226],\n",
              "        ...,\n",
              "        [ 0.21738243, -0.14704491,  1.40872498],\n",
              "        [ 0.58716195,  0.66435405,  0.67948086],\n",
              "        [ 0.68315357,  0.04084859,  1.91819744]]),\n",
              " array([[ 1.59301567, -1.35435933,  2.58262733],\n",
              "        [ 0.99769755,  0.99806485,  0.84418709],\n",
              "        [-0.42485257,  0.55812535, -1.15785286],\n",
              "        ...,\n",
              "        [ 1.37445674, -1.05746369, -1.12564819],\n",
              "        [-1.57087737, -0.6348826 , -0.36981671],\n",
              "        [-1.03572293, -0.93978209,  0.04244312]]))"
            ]
          },
          "metadata": {},
          "execution_count": 71
        }
      ]
    },
    {
      "cell_type": "code",
      "source": [
        "y_credit_train, y_credit_test"
      ],
      "metadata": {
        "colab": {
          "base_uri": "https://localhost:8080/"
        },
        "id": "sYJJnWlkjNxn",
        "outputId": "04834fc3-5b8d-43ce-eaa5-9b22341797dc"
      },
      "execution_count": 72,
      "outputs": [
        {
          "output_type": "execute_result",
          "data": {
            "text/plain": [
              "(array([0, 0, 0, ..., 0, 0, 0]),\n",
              " array([1, 0, 0, 0, 0, 0, 0, 0, 0, 0, 0, 0, 0, 0, 0, 0, 1, 0, 0, 1, 0, 0,\n",
              "        0, 0, 0, 0, 0, 0, 0, 0, 0, 0, 0, 0, 0, 1, 1, 0, 0, 0, 0, 0, 0, 0,\n",
              "        0, 1, 1, 0, 1, 0, 0, 0, 0, 0, 0, 0, 0, 0, 0, 1, 0, 0, 0, 1, 0, 0,\n",
              "        0, 0, 0, 1, 0, 0, 1, 0, 0, 1, 0, 0, 1, 0, 0, 0, 0, 0, 0, 0, 1, 0,\n",
              "        0, 0, 0, 0, 0, 0, 0, 0, 0, 0, 0, 0, 0, 0, 0, 1, 0, 0, 0, 0, 0, 1,\n",
              "        0, 0, 1, 0, 0, 0, 0, 0, 0, 0, 0, 0, 0, 0, 0, 0, 0, 0, 0, 0, 0, 1,\n",
              "        0, 0, 0, 0, 0, 0, 0, 0, 0, 0, 0, 0, 1, 0, 0, 0, 0, 0, 0, 0, 1, 0,\n",
              "        0, 0, 0, 0, 0, 0, 0, 0, 0, 0, 0, 1, 0, 0, 0, 1, 0, 0, 0, 0, 0, 0,\n",
              "        0, 1, 0, 0, 0, 0, 0, 1, 0, 0, 0, 1, 1, 0, 0, 0, 1, 0, 0, 0, 0, 0,\n",
              "        0, 0, 0, 0, 0, 0, 0, 0, 1, 1, 0, 1, 0, 0, 0, 0, 0, 0, 0, 0, 0, 0,\n",
              "        1, 0, 0, 0, 0, 0, 0, 0, 0, 1, 0, 0, 0, 0, 0, 0, 0, 0, 0, 0, 0, 0,\n",
              "        0, 1, 1, 0, 1, 1, 0, 0, 0, 0, 0, 0, 0, 0, 0, 0, 1, 0, 1, 0, 0, 0,\n",
              "        0, 0, 0, 0, 0, 0, 0, 0, 0, 0, 0, 0, 0, 0, 0, 0, 0, 0, 0, 0, 0, 0,\n",
              "        0, 0, 0, 0, 0, 0, 0, 0, 0, 0, 1, 0, 0, 0, 0, 0, 0, 0, 1, 0, 0, 0,\n",
              "        0, 0, 1, 1, 0, 0, 0, 1, 0, 0, 0, 0, 0, 1, 0, 0, 0, 0, 0, 1, 0, 0,\n",
              "        0, 0, 0, 0, 0, 1, 0, 0, 0, 0, 0, 0, 1, 0, 0, 0, 0, 0, 0, 1, 0, 0,\n",
              "        0, 0, 0, 1, 0, 0, 0, 0, 0, 0, 0, 0, 0, 0, 0, 0, 0, 0, 0, 0, 0, 0,\n",
              "        0, 0, 0, 0, 1, 0, 0, 0, 0, 0, 0, 0, 1, 0, 0, 0, 0, 0, 0, 0, 0, 0,\n",
              "        0, 0, 0, 0, 1, 0, 0, 0, 0, 0, 0, 0, 0, 0, 1, 0, 0, 0, 0, 0, 0, 0,\n",
              "        0, 0, 0, 0, 0, 0, 0, 0, 0, 0, 0, 0, 0, 1, 0, 0, 0, 0, 0, 0, 0, 0,\n",
              "        0, 1, 0, 0, 1, 0, 0, 0, 0, 0, 0, 0, 1, 0, 0, 0, 0, 0, 0, 0, 0, 0,\n",
              "        0, 0, 1, 0, 0, 0, 0, 0, 0, 0, 0, 0, 0, 0, 0, 1, 0, 0, 0, 0, 0, 0,\n",
              "        0, 0, 1, 0, 0, 0, 1, 0, 0, 0, 0, 0, 0, 0, 1, 1]))"
            ]
          },
          "metadata": {},
          "execution_count": 72
        }
      ]
    },
    {
      "cell_type": "markdown",
      "source": [
        "### Amostragem"
      ],
      "metadata": {
        "id": "6lyFMH8BVPve"
      }
    },
    {
      "cell_type": "code",
      "source": [
        "credit_data_sample = Orange.evaluation.testing.sample(credit_data_table, n=0.25)"
      ],
      "metadata": {
        "id": "tftM2aHOWLHL"
      },
      "execution_count": 53,
      "outputs": []
    },
    {
      "cell_type": "code",
      "source": [
        "credit_data_sample[0]\n",
        "credit_data_sample[1]"
      ],
      "metadata": {
        "colab": {
          "base_uri": "https://localhost:8080/"
        },
        "id": "BWIFY0dgXb1f",
        "outputId": "0fe6824e-d118-45bf-de1e-7cee53049b81"
      },
      "execution_count": 54,
      "outputs": [
        {
          "output_type": "execute_result",
          "data": {
            "text/plain": [
              "[[23120.9, 40.2967, 1417.85 | 0],\n",
              " [35108.6, 40.7434, 4002.99 | 0],\n",
              " [27135.1, 54.8365, 1387.25 | 0],\n",
              " [55320.8, 29.4172, 5990.72 | 0],\n",
              " [23985.1, 24.4328, 2284.21 | 0],\n",
              " ...\n",
              "]"
            ]
          },
          "metadata": {},
          "execution_count": 54
        }
      ]
    },
    {
      "cell_type": "code",
      "source": [
        "train_credit_data_sample = credit_data_sample[1]\n",
        "test_credit_data_sample = credit_data_sample[0]"
      ],
      "metadata": {
        "id": "WPOH8WvsW5Oz"
      },
      "execution_count": 55,
      "outputs": []
    },
    {
      "cell_type": "code",
      "source": [
        "len(train_credit_data_sample), len(test_credit_data_sample)"
      ],
      "metadata": {
        "colab": {
          "base_uri": "https://localhost:8080/"
        },
        "id": "XdroWFkRXCVU",
        "outputId": "71dc1e0d-7ebe-4782-c6f8-44d293713ddf"
      },
      "execution_count": 56,
      "outputs": [
        {
          "output_type": "execute_result",
          "data": {
            "text/plain": [
              "(1500, 500)"
            ]
          },
          "metadata": {},
          "execution_count": 56
        }
      ]
    },
    {
      "cell_type": "markdown",
      "source": [
        "## Implementação de Algoritmos de Aprendizagem de Máquina"
      ],
      "metadata": {
        "id": "3RnARJVqcRjH"
      }
    },
    {
      "cell_type": "markdown",
      "source": [
        "### Ingestão e Treinamento Neural Modelo"
      ],
      "metadata": {
        "id": "l3V5Vq2PXFk2"
      }
    },
    {
      "cell_type": "markdown",
      "source": [
        "#### CN2"
      ],
      "metadata": {
        "id": "51LZdO1Dh5Wu"
      }
    },
    {
      "cell_type": "code",
      "source": [
        "cn2_credit = Orange.classification.rules.CN2Learner()\n",
        "credit_rules = cn2_credit(train_credit_data_sample)"
      ],
      "metadata": {
        "id": "7D7pC7qAXMEN"
      },
      "execution_count": 57,
      "outputs": []
    },
    {
      "cell_type": "code",
      "source": [
        "for rule in credit_rules.rule_list:\n",
        "  print(rule)"
      ],
      "metadata": {
        "colab": {
          "base_uri": "https://localhost:8080/"
        },
        "id": "DoaBDtgsX7m8",
        "outputId": "9989df27-019c-4c3b-86f2-fbcc358f0226"
      },
      "execution_count": 58,
      "outputs": [
        {
          "output_type": "stream",
          "name": "stdout",
          "text": [
            "IF age>=34.9126990740187 THEN default=0 \n",
            "IF income>=69695.1504494064 THEN default=1 \n",
            "IF age>=34.7514377613552 THEN default=1 \n",
            "IF loan<=2495.13299137587 AND income>=20145.9885970689 THEN default=0 \n",
            "IF income<=31702.3342987522 AND age>=34.7410444347188 THEN default=0 \n",
            "IF income<=31702.3342987522 AND loan>=3682.8619314122707 THEN default=1 \n",
            "IF loan>=7513.18286435755 AND age>=18.3097456344403 THEN default=1 \n",
            "IF income>=57596.3540980592 THEN default=0 \n",
            "IF loan>=5862.83302915672 AND age>=29.4230185477063 THEN default=1 \n",
            "IF loan>=6016.61509078929 AND age>=23.1489815721288 THEN default=1 \n",
            "IF age>=34.669146894011604 THEN default=1 \n",
            "IF age>=33.9493660898879 THEN default=0 \n",
            "IF age>=33.6895613595843 THEN default=1 \n",
            "IF loan>=6525.21842259918 THEN default=1 \n",
            "IF income>=48790.1324336417 THEN default=0 \n",
            "IF income<=22089.8374845274 AND age>=21.3656869572587 THEN default=1 \n",
            "IF loan>=4849.33378471958 AND loan>=5785.88427485782 THEN default=1 \n",
            "IF income>=45311.831838917 THEN default=0 \n",
            "IF loan>=4849.33378471958 AND age>=18.9473467003554 THEN default=1 \n",
            "IF income>=26617.0303151011 AND income>=38129.754869733 THEN default=0 \n",
            "IF age>=32.6760442531668 THEN default=1 \n",
            "IF income>=38011.7266485468 THEN default=1 \n",
            "IF income>=26617.0303151011 AND income>=33489.0398592688 THEN default=0 \n",
            "IF income>=33198.1282844208 THEN default=1 \n",
            "IF income>=26617.0303151011 THEN default=0 \n",
            "IF income>=25640.0788831525 THEN default=1 \n",
            "IF income<=24857.6948815025 THEN default=0 \n",
            "IF income<=25146.5956843458 THEN default=0 \n",
            "IF TRUE THEN default=0 \n"
          ]
        }
      ]
    },
    {
      "cell_type": "markdown",
      "source": [
        "#### KNN"
      ],
      "metadata": {
        "id": "h_VzVBTuiCBW"
      }
    },
    {
      "cell_type": "code",
      "source": [
        "knn_census = KNeighborsClassifier(n_neighbors=10,)\n",
        "knn_census.fit(x_census_train, y_census_train)"
      ],
      "metadata": {
        "colab": {
          "base_uri": "https://localhost:8080/",
          "height": 75
        },
        "id": "HuR2xUpmiRq5",
        "outputId": "e4ad8215-d700-429b-eafd-7dba9e85ab80"
      },
      "execution_count": 59,
      "outputs": [
        {
          "output_type": "execute_result",
          "data": {
            "text/plain": [
              "KNeighborsClassifier(n_neighbors=10)"
            ],
            "text/html": [
              "<style>#sk-container-id-3 {color: black;}#sk-container-id-3 pre{padding: 0;}#sk-container-id-3 div.sk-toggleable {background-color: white;}#sk-container-id-3 label.sk-toggleable__label {cursor: pointer;display: block;width: 100%;margin-bottom: 0;padding: 0.3em;box-sizing: border-box;text-align: center;}#sk-container-id-3 label.sk-toggleable__label-arrow:before {content: \"▸\";float: left;margin-right: 0.25em;color: #696969;}#sk-container-id-3 label.sk-toggleable__label-arrow:hover:before {color: black;}#sk-container-id-3 div.sk-estimator:hover label.sk-toggleable__label-arrow:before {color: black;}#sk-container-id-3 div.sk-toggleable__content {max-height: 0;max-width: 0;overflow: hidden;text-align: left;background-color: #f0f8ff;}#sk-container-id-3 div.sk-toggleable__content pre {margin: 0.2em;color: black;border-radius: 0.25em;background-color: #f0f8ff;}#sk-container-id-3 input.sk-toggleable__control:checked~div.sk-toggleable__content {max-height: 200px;max-width: 100%;overflow: auto;}#sk-container-id-3 input.sk-toggleable__control:checked~label.sk-toggleable__label-arrow:before {content: \"▾\";}#sk-container-id-3 div.sk-estimator input.sk-toggleable__control:checked~label.sk-toggleable__label {background-color: #d4ebff;}#sk-container-id-3 div.sk-label input.sk-toggleable__control:checked~label.sk-toggleable__label {background-color: #d4ebff;}#sk-container-id-3 input.sk-hidden--visually {border: 0;clip: rect(1px 1px 1px 1px);clip: rect(1px, 1px, 1px, 1px);height: 1px;margin: -1px;overflow: hidden;padding: 0;position: absolute;width: 1px;}#sk-container-id-3 div.sk-estimator {font-family: monospace;background-color: #f0f8ff;border: 1px dotted black;border-radius: 0.25em;box-sizing: border-box;margin-bottom: 0.5em;}#sk-container-id-3 div.sk-estimator:hover {background-color: #d4ebff;}#sk-container-id-3 div.sk-parallel-item::after {content: \"\";width: 100%;border-bottom: 1px solid gray;flex-grow: 1;}#sk-container-id-3 div.sk-label:hover label.sk-toggleable__label {background-color: #d4ebff;}#sk-container-id-3 div.sk-serial::before {content: \"\";position: absolute;border-left: 1px solid gray;box-sizing: border-box;top: 0;bottom: 0;left: 50%;z-index: 0;}#sk-container-id-3 div.sk-serial {display: flex;flex-direction: column;align-items: center;background-color: white;padding-right: 0.2em;padding-left: 0.2em;position: relative;}#sk-container-id-3 div.sk-item {position: relative;z-index: 1;}#sk-container-id-3 div.sk-parallel {display: flex;align-items: stretch;justify-content: center;background-color: white;position: relative;}#sk-container-id-3 div.sk-item::before, #sk-container-id-3 div.sk-parallel-item::before {content: \"\";position: absolute;border-left: 1px solid gray;box-sizing: border-box;top: 0;bottom: 0;left: 50%;z-index: -1;}#sk-container-id-3 div.sk-parallel-item {display: flex;flex-direction: column;z-index: 1;position: relative;background-color: white;}#sk-container-id-3 div.sk-parallel-item:first-child::after {align-self: flex-end;width: 50%;}#sk-container-id-3 div.sk-parallel-item:last-child::after {align-self: flex-start;width: 50%;}#sk-container-id-3 div.sk-parallel-item:only-child::after {width: 0;}#sk-container-id-3 div.sk-dashed-wrapped {border: 1px dashed gray;margin: 0 0.4em 0.5em 0.4em;box-sizing: border-box;padding-bottom: 0.4em;background-color: white;}#sk-container-id-3 div.sk-label label {font-family: monospace;font-weight: bold;display: inline-block;line-height: 1.2em;}#sk-container-id-3 div.sk-label-container {text-align: center;}#sk-container-id-3 div.sk-container {/* jupyter's `normalize.less` sets `[hidden] { display: none; }` but bootstrap.min.css set `[hidden] { display: none !important; }` so we also need the `!important` here to be able to override the default hidden behavior on the sphinx rendered scikit-learn.org. See: https://github.com/scikit-learn/scikit-learn/issues/21755 */display: inline-block !important;position: relative;}#sk-container-id-3 div.sk-text-repr-fallback {display: none;}</style><div id=\"sk-container-id-3\" class=\"sk-top-container\"><div class=\"sk-text-repr-fallback\"><pre>KNeighborsClassifier(n_neighbors=10)</pre><b>In a Jupyter environment, please rerun this cell to show the HTML representation or trust the notebook. <br />On GitHub, the HTML representation is unable to render, please try loading this page with nbviewer.org.</b></div><div class=\"sk-container\" hidden><div class=\"sk-item\"><div class=\"sk-estimator sk-toggleable\"><input class=\"sk-toggleable__control sk-hidden--visually\" id=\"sk-estimator-id-3\" type=\"checkbox\" checked><label for=\"sk-estimator-id-3\" class=\"sk-toggleable__label sk-toggleable__label-arrow\">KNeighborsClassifier</label><div class=\"sk-toggleable__content\"><pre>KNeighborsClassifier(n_neighbors=10)</pre></div></div></div></div></div>"
            ]
          },
          "metadata": {},
          "execution_count": 59
        }
      ]
    },
    {
      "cell_type": "markdown",
      "source": [
        "#### Neural Network Credit"
      ],
      "metadata": {
        "id": "heFKgS9BgUof"
      }
    },
    {
      "cell_type": "code",
      "source": [
        "neural_network_credit = MLPClassifier(verbose=True, max_iter=1500, tol=0.000010, solver='adam', activation='relu', hidden_layer_sizes=(20,20))\n",
        "neural_network_credit.fit(x_credit_train, y_credit_train)"
      ],
      "metadata": {
        "colab": {
          "base_uri": "https://localhost:8080/",
          "height": 1000
        },
        "id": "N_fpuw6xgXgl",
        "outputId": "569d4e57-32a5-4c8e-8c13-3a4a78ec5942"
      },
      "execution_count": 73,
      "outputs": [
        {
          "output_type": "stream",
          "name": "stdout",
          "text": [
            "Iteration 1, loss = 0.80572932\n",
            "Iteration 2, loss = 0.73385981\n",
            "Iteration 3, loss = 0.67277138\n",
            "Iteration 4, loss = 0.62078156\n",
            "Iteration 5, loss = 0.57225349\n",
            "Iteration 6, loss = 0.52783769\n",
            "Iteration 7, loss = 0.48417979\n",
            "Iteration 8, loss = 0.44124426\n",
            "Iteration 9, loss = 0.40071857\n",
            "Iteration 10, loss = 0.36260283\n",
            "Iteration 11, loss = 0.32829525\n",
            "Iteration 12, loss = 0.29694773\n",
            "Iteration 13, loss = 0.26894971\n",
            "Iteration 14, loss = 0.24453685\n",
            "Iteration 15, loss = 0.22307724\n",
            "Iteration 16, loss = 0.20491914\n",
            "Iteration 17, loss = 0.18909274\n",
            "Iteration 18, loss = 0.17534273\n",
            "Iteration 19, loss = 0.16339282\n",
            "Iteration 20, loss = 0.15287603\n",
            "Iteration 21, loss = 0.14375618\n",
            "Iteration 22, loss = 0.13570062\n",
            "Iteration 23, loss = 0.12863109\n",
            "Iteration 24, loss = 0.12235413\n",
            "Iteration 25, loss = 0.11697329\n",
            "Iteration 26, loss = 0.11205068\n",
            "Iteration 27, loss = 0.10770689\n",
            "Iteration 28, loss = 0.10370468\n",
            "Iteration 29, loss = 0.10019455\n",
            "Iteration 30, loss = 0.09684793\n",
            "Iteration 31, loss = 0.09418753\n",
            "Iteration 32, loss = 0.09125984\n",
            "Iteration 33, loss = 0.08852727\n",
            "Iteration 34, loss = 0.08597826\n",
            "Iteration 35, loss = 0.08365782\n",
            "Iteration 36, loss = 0.08152601\n",
            "Iteration 37, loss = 0.07934230\n",
            "Iteration 38, loss = 0.07730439\n",
            "Iteration 39, loss = 0.07540638\n",
            "Iteration 40, loss = 0.07334563\n",
            "Iteration 41, loss = 0.07155137\n",
            "Iteration 42, loss = 0.07004895\n",
            "Iteration 43, loss = 0.06859071\n",
            "Iteration 44, loss = 0.06692270\n",
            "Iteration 45, loss = 0.06595716\n",
            "Iteration 46, loss = 0.06442636\n",
            "Iteration 47, loss = 0.06308580\n",
            "Iteration 48, loss = 0.06212021\n",
            "Iteration 49, loss = 0.06088791\n",
            "Iteration 50, loss = 0.05985876\n",
            "Iteration 51, loss = 0.05881992\n",
            "Iteration 52, loss = 0.05775455\n",
            "Iteration 53, loss = 0.05700133\n",
            "Iteration 54, loss = 0.05610265\n",
            "Iteration 55, loss = 0.05493398\n",
            "Iteration 56, loss = 0.05410035\n",
            "Iteration 57, loss = 0.05318469\n",
            "Iteration 58, loss = 0.05244320\n",
            "Iteration 59, loss = 0.05136624\n",
            "Iteration 60, loss = 0.05057783\n",
            "Iteration 61, loss = 0.04982310\n",
            "Iteration 62, loss = 0.04906649\n",
            "Iteration 63, loss = 0.04824288\n",
            "Iteration 64, loss = 0.04748524\n",
            "Iteration 65, loss = 0.04697529\n",
            "Iteration 66, loss = 0.04602833\n",
            "Iteration 67, loss = 0.04537697\n",
            "Iteration 68, loss = 0.04458305\n",
            "Iteration 69, loss = 0.04390129\n",
            "Iteration 70, loss = 0.04341527\n",
            "Iteration 71, loss = 0.04280522\n",
            "Iteration 72, loss = 0.04196780\n",
            "Iteration 73, loss = 0.04126724\n",
            "Iteration 74, loss = 0.04057668\n",
            "Iteration 75, loss = 0.03991738\n",
            "Iteration 76, loss = 0.03933199\n",
            "Iteration 77, loss = 0.03859770\n",
            "Iteration 78, loss = 0.03829214\n",
            "Iteration 79, loss = 0.03738336\n",
            "Iteration 80, loss = 0.03672361\n",
            "Iteration 81, loss = 0.03619596\n",
            "Iteration 82, loss = 0.03554318\n",
            "Iteration 83, loss = 0.03491074\n",
            "Iteration 84, loss = 0.03475479\n",
            "Iteration 85, loss = 0.03380392\n",
            "Iteration 86, loss = 0.03354470\n",
            "Iteration 87, loss = 0.03320765\n",
            "Iteration 88, loss = 0.03241842\n",
            "Iteration 89, loss = 0.03214254\n",
            "Iteration 90, loss = 0.03208375\n",
            "Iteration 91, loss = 0.03114903\n",
            "Iteration 92, loss = 0.03076577\n",
            "Iteration 93, loss = 0.03035977\n",
            "Iteration 94, loss = 0.02979105\n",
            "Iteration 95, loss = 0.02945358\n",
            "Iteration 96, loss = 0.02915903\n",
            "Iteration 97, loss = 0.02870443\n",
            "Iteration 98, loss = 0.02831089\n",
            "Iteration 99, loss = 0.02806542\n",
            "Iteration 100, loss = 0.02763723\n",
            "Iteration 101, loss = 0.02751183\n",
            "Iteration 102, loss = 0.02697051\n",
            "Iteration 103, loss = 0.02664703\n",
            "Iteration 104, loss = 0.02637059\n",
            "Iteration 105, loss = 0.02602815\n",
            "Iteration 106, loss = 0.02574476\n",
            "Iteration 107, loss = 0.02539533\n",
            "Iteration 108, loss = 0.02528784\n",
            "Iteration 109, loss = 0.02478161\n",
            "Iteration 110, loss = 0.02456394\n",
            "Iteration 111, loss = 0.02435187\n",
            "Iteration 112, loss = 0.02426993\n",
            "Iteration 113, loss = 0.02387634\n",
            "Iteration 114, loss = 0.02347564\n",
            "Iteration 115, loss = 0.02331716\n",
            "Iteration 116, loss = 0.02287217\n",
            "Iteration 117, loss = 0.02282935\n",
            "Iteration 118, loss = 0.02264714\n",
            "Iteration 119, loss = 0.02227286\n",
            "Iteration 120, loss = 0.02204927\n",
            "Iteration 121, loss = 0.02178011\n",
            "Iteration 122, loss = 0.02150554\n",
            "Iteration 123, loss = 0.02135176\n",
            "Iteration 124, loss = 0.02116180\n",
            "Iteration 125, loss = 0.02090700\n",
            "Iteration 126, loss = 0.02072348\n",
            "Iteration 127, loss = 0.02055143\n",
            "Iteration 128, loss = 0.02034512\n",
            "Iteration 129, loss = 0.02030259\n",
            "Iteration 130, loss = 0.01994903\n",
            "Iteration 131, loss = 0.01994050\n",
            "Iteration 132, loss = 0.01958356\n",
            "Iteration 133, loss = 0.01945791\n",
            "Iteration 134, loss = 0.01931318\n",
            "Iteration 135, loss = 0.01916036\n",
            "Iteration 136, loss = 0.01887323\n",
            "Iteration 137, loss = 0.01868912\n",
            "Iteration 138, loss = 0.01863233\n",
            "Iteration 139, loss = 0.01842821\n",
            "Iteration 140, loss = 0.01819252\n",
            "Iteration 141, loss = 0.01813283\n",
            "Iteration 142, loss = 0.01793809\n",
            "Iteration 143, loss = 0.01791674\n",
            "Iteration 144, loss = 0.01787494\n",
            "Iteration 145, loss = 0.01754877\n",
            "Iteration 146, loss = 0.01733957\n",
            "Iteration 147, loss = 0.01720075\n",
            "Iteration 148, loss = 0.01704422\n",
            "Iteration 149, loss = 0.01691798\n",
            "Iteration 150, loss = 0.01677184\n",
            "Iteration 151, loss = 0.01661120\n",
            "Iteration 152, loss = 0.01657202\n",
            "Iteration 153, loss = 0.01636566\n",
            "Iteration 154, loss = 0.01639255\n",
            "Iteration 155, loss = 0.01628401\n",
            "Iteration 156, loss = 0.01611039\n",
            "Iteration 157, loss = 0.01603710\n",
            "Iteration 158, loss = 0.01583961\n",
            "Iteration 159, loss = 0.01582403\n",
            "Iteration 160, loss = 0.01565858\n",
            "Iteration 161, loss = 0.01567038\n",
            "Iteration 162, loss = 0.01546771\n",
            "Iteration 163, loss = 0.01560568\n",
            "Iteration 164, loss = 0.01503635\n",
            "Iteration 165, loss = 0.01504715\n",
            "Iteration 166, loss = 0.01484262\n",
            "Iteration 167, loss = 0.01485164\n",
            "Iteration 168, loss = 0.01460232\n",
            "Iteration 169, loss = 0.01472570\n",
            "Iteration 170, loss = 0.01439125\n",
            "Iteration 171, loss = 0.01440428\n",
            "Iteration 172, loss = 0.01426004\n",
            "Iteration 173, loss = 0.01425849\n",
            "Iteration 174, loss = 0.01408784\n",
            "Iteration 175, loss = 0.01405837\n",
            "Iteration 176, loss = 0.01396724\n",
            "Iteration 177, loss = 0.01374728\n",
            "Iteration 178, loss = 0.01380954\n",
            "Iteration 179, loss = 0.01349539\n",
            "Iteration 180, loss = 0.01351019\n",
            "Iteration 181, loss = 0.01337748\n",
            "Iteration 182, loss = 0.01355585\n",
            "Iteration 183, loss = 0.01316893\n",
            "Iteration 184, loss = 0.01317140\n",
            "Iteration 185, loss = 0.01313690\n",
            "Iteration 186, loss = 0.01296825\n",
            "Iteration 187, loss = 0.01324445\n",
            "Iteration 188, loss = 0.01285344\n",
            "Iteration 189, loss = 0.01276431\n",
            "Iteration 190, loss = 0.01263229\n",
            "Iteration 191, loss = 0.01262260\n",
            "Iteration 192, loss = 0.01256165\n",
            "Iteration 193, loss = 0.01253285\n",
            "Iteration 194, loss = 0.01230573\n",
            "Iteration 195, loss = 0.01219045\n",
            "Iteration 196, loss = 0.01222581\n",
            "Iteration 197, loss = 0.01216412\n",
            "Iteration 198, loss = 0.01197652\n",
            "Iteration 199, loss = 0.01194871\n",
            "Iteration 200, loss = 0.01181687\n",
            "Iteration 201, loss = 0.01178361\n",
            "Iteration 202, loss = 0.01195691\n",
            "Iteration 203, loss = 0.01174316\n",
            "Iteration 204, loss = 0.01161209\n",
            "Iteration 205, loss = 0.01144099\n",
            "Iteration 206, loss = 0.01147464\n",
            "Iteration 207, loss = 0.01134907\n",
            "Iteration 208, loss = 0.01130145\n",
            "Iteration 209, loss = 0.01117556\n",
            "Iteration 210, loss = 0.01107663\n",
            "Iteration 211, loss = 0.01120105\n",
            "Iteration 212, loss = 0.01107043\n",
            "Iteration 213, loss = 0.01094245\n",
            "Iteration 214, loss = 0.01085149\n",
            "Iteration 215, loss = 0.01077896\n",
            "Iteration 216, loss = 0.01067230\n",
            "Iteration 217, loss = 0.01067974\n",
            "Iteration 218, loss = 0.01070363\n",
            "Iteration 219, loss = 0.01052802\n",
            "Iteration 220, loss = 0.01086367\n",
            "Iteration 221, loss = 0.01036684\n",
            "Iteration 222, loss = 0.01049799\n",
            "Iteration 223, loss = 0.01049216\n",
            "Iteration 224, loss = 0.01049341\n",
            "Iteration 225, loss = 0.01052475\n",
            "Iteration 226, loss = 0.01015525\n",
            "Iteration 227, loss = 0.01010711\n",
            "Iteration 228, loss = 0.00998355\n",
            "Iteration 229, loss = 0.01005577\n",
            "Iteration 230, loss = 0.00999756\n",
            "Iteration 231, loss = 0.00983719\n",
            "Iteration 232, loss = 0.00979157\n",
            "Iteration 233, loss = 0.00976739\n",
            "Iteration 234, loss = 0.00963130\n",
            "Iteration 235, loss = 0.00980134\n",
            "Iteration 236, loss = 0.00944456\n",
            "Iteration 237, loss = 0.00977085\n",
            "Iteration 238, loss = 0.00957035\n",
            "Iteration 239, loss = 0.00963490\n",
            "Iteration 240, loss = 0.00971765\n",
            "Iteration 241, loss = 0.00944466\n",
            "Iteration 242, loss = 0.00931370\n",
            "Iteration 243, loss = 0.00922336\n",
            "Iteration 244, loss = 0.00927136\n",
            "Iteration 245, loss = 0.00910375\n",
            "Iteration 246, loss = 0.00908607\n",
            "Iteration 247, loss = 0.00917085\n",
            "Iteration 248, loss = 0.00907001\n",
            "Iteration 249, loss = 0.00892913\n",
            "Iteration 250, loss = 0.00889981\n",
            "Iteration 251, loss = 0.00885886\n",
            "Iteration 252, loss = 0.00885562\n",
            "Iteration 253, loss = 0.00870763\n",
            "Iteration 254, loss = 0.00872706\n",
            "Iteration 255, loss = 0.00871027\n",
            "Iteration 256, loss = 0.00869348\n",
            "Iteration 257, loss = 0.00859594\n",
            "Iteration 258, loss = 0.00851431\n",
            "Iteration 259, loss = 0.00853165\n",
            "Iteration 260, loss = 0.00843568\n",
            "Iteration 261, loss = 0.00843484\n",
            "Iteration 262, loss = 0.00835008\n",
            "Iteration 263, loss = 0.00830426\n",
            "Iteration 264, loss = 0.00835854\n",
            "Iteration 265, loss = 0.00840299\n",
            "Iteration 266, loss = 0.00829663\n",
            "Iteration 267, loss = 0.00840052\n",
            "Iteration 268, loss = 0.00809192\n",
            "Iteration 269, loss = 0.00816957\n",
            "Iteration 270, loss = 0.00796064\n",
            "Iteration 271, loss = 0.00805292\n",
            "Iteration 272, loss = 0.00802411\n",
            "Iteration 273, loss = 0.00822594\n",
            "Iteration 274, loss = 0.00781585\n",
            "Iteration 275, loss = 0.00795052\n",
            "Iteration 276, loss = 0.00792858\n",
            "Iteration 277, loss = 0.00784587\n",
            "Iteration 278, loss = 0.00774194\n",
            "Iteration 279, loss = 0.00766630\n",
            "Iteration 280, loss = 0.00759341\n",
            "Iteration 281, loss = 0.00764145\n",
            "Iteration 282, loss = 0.00784436\n",
            "Iteration 283, loss = 0.00756325\n",
            "Iteration 284, loss = 0.00765055\n",
            "Iteration 285, loss = 0.00748560\n",
            "Iteration 286, loss = 0.00743781\n",
            "Iteration 287, loss = 0.00739456\n",
            "Iteration 288, loss = 0.00741744\n",
            "Iteration 289, loss = 0.00751846\n",
            "Iteration 290, loss = 0.00726951\n",
            "Iteration 291, loss = 0.00745992\n",
            "Iteration 292, loss = 0.00721194\n",
            "Iteration 293, loss = 0.00735066\n",
            "Iteration 294, loss = 0.00709857\n",
            "Iteration 295, loss = 0.00718807\n",
            "Iteration 296, loss = 0.00707768\n",
            "Iteration 297, loss = 0.00709267\n",
            "Iteration 298, loss = 0.00698418\n",
            "Iteration 299, loss = 0.00730294\n",
            "Iteration 300, loss = 0.00698401\n",
            "Iteration 301, loss = 0.00692992\n",
            "Iteration 302, loss = 0.00680579\n",
            "Iteration 303, loss = 0.00698344\n",
            "Iteration 304, loss = 0.00689639\n",
            "Iteration 305, loss = 0.00680930\n",
            "Iteration 306, loss = 0.00682108\n",
            "Iteration 307, loss = 0.00670974\n",
            "Iteration 308, loss = 0.00679024\n",
            "Iteration 309, loss = 0.00679533\n",
            "Iteration 310, loss = 0.00670827\n",
            "Iteration 311, loss = 0.00672651\n",
            "Iteration 312, loss = 0.00681484\n",
            "Iteration 313, loss = 0.00667700\n",
            "Iteration 314, loss = 0.00651657\n",
            "Iteration 315, loss = 0.00675377\n",
            "Iteration 316, loss = 0.00641338\n",
            "Iteration 317, loss = 0.00659481\n",
            "Iteration 318, loss = 0.00629228\n",
            "Iteration 319, loss = 0.00668302\n",
            "Iteration 320, loss = 0.00638649\n",
            "Iteration 321, loss = 0.00636224\n",
            "Iteration 322, loss = 0.00641655\n",
            "Iteration 323, loss = 0.00628217\n",
            "Iteration 324, loss = 0.00627192\n",
            "Iteration 325, loss = 0.00634783\n",
            "Iteration 326, loss = 0.00618831\n",
            "Iteration 327, loss = 0.00618680\n",
            "Iteration 328, loss = 0.00603811\n",
            "Iteration 329, loss = 0.00612953\n",
            "Iteration 330, loss = 0.00620822\n",
            "Iteration 331, loss = 0.00623122\n",
            "Iteration 332, loss = 0.00607594\n",
            "Iteration 333, loss = 0.00606642\n",
            "Iteration 334, loss = 0.00616987\n",
            "Iteration 335, loss = 0.00609685\n",
            "Iteration 336, loss = 0.00595320\n",
            "Iteration 337, loss = 0.00587557\n",
            "Iteration 338, loss = 0.00602257\n",
            "Iteration 339, loss = 0.00606129\n",
            "Iteration 340, loss = 0.00582462\n",
            "Iteration 341, loss = 0.00577168\n",
            "Iteration 342, loss = 0.00594076\n",
            "Iteration 343, loss = 0.00578147\n",
            "Iteration 344, loss = 0.00572252\n",
            "Iteration 345, loss = 0.00572278\n",
            "Iteration 346, loss = 0.00569877\n",
            "Iteration 347, loss = 0.00571478\n",
            "Iteration 348, loss = 0.00566814\n",
            "Iteration 349, loss = 0.00568067\n",
            "Iteration 350, loss = 0.00562089\n",
            "Iteration 351, loss = 0.00564182\n",
            "Iteration 352, loss = 0.00552443\n",
            "Iteration 353, loss = 0.00551781\n",
            "Iteration 354, loss = 0.00550543\n",
            "Iteration 355, loss = 0.00548045\n",
            "Iteration 356, loss = 0.00546314\n",
            "Iteration 357, loss = 0.00553460\n",
            "Iteration 358, loss = 0.00556204\n",
            "Iteration 359, loss = 0.00535919\n",
            "Iteration 360, loss = 0.00543587\n",
            "Iteration 361, loss = 0.00556684\n",
            "Iteration 362, loss = 0.00532111\n",
            "Iteration 363, loss = 0.00532438\n",
            "Iteration 364, loss = 0.00535894\n",
            "Iteration 365, loss = 0.00531932\n",
            "Iteration 366, loss = 0.00523121\n",
            "Iteration 367, loss = 0.00528090\n",
            "Iteration 368, loss = 0.00519739\n",
            "Iteration 369, loss = 0.00516880\n",
            "Iteration 370, loss = 0.00514298\n",
            "Iteration 371, loss = 0.00512491\n",
            "Iteration 372, loss = 0.00520296\n",
            "Iteration 373, loss = 0.00510535\n",
            "Iteration 374, loss = 0.00523693\n",
            "Iteration 375, loss = 0.00511192\n",
            "Iteration 376, loss = 0.00506437\n",
            "Iteration 377, loss = 0.00512248\n",
            "Iteration 378, loss = 0.00496993\n",
            "Iteration 379, loss = 0.00496000\n",
            "Iteration 380, loss = 0.00496793\n",
            "Iteration 381, loss = 0.00486160\n",
            "Iteration 382, loss = 0.00496214\n",
            "Iteration 383, loss = 0.00490342\n",
            "Iteration 384, loss = 0.00485259\n",
            "Iteration 385, loss = 0.00487258\n",
            "Iteration 386, loss = 0.00482227\n",
            "Iteration 387, loss = 0.00481302\n",
            "Iteration 388, loss = 0.00476965\n",
            "Iteration 389, loss = 0.00485660\n",
            "Iteration 390, loss = 0.00475654\n",
            "Iteration 391, loss = 0.00471524\n",
            "Iteration 392, loss = 0.00483160\n",
            "Iteration 393, loss = 0.00467813\n",
            "Iteration 394, loss = 0.00472919\n",
            "Iteration 395, loss = 0.00471994\n",
            "Iteration 396, loss = 0.00468333\n",
            "Iteration 397, loss = 0.00454304\n",
            "Iteration 398, loss = 0.00460168\n",
            "Iteration 399, loss = 0.00461955\n",
            "Iteration 400, loss = 0.00450856\n",
            "Iteration 401, loss = 0.00474614\n",
            "Iteration 402, loss = 0.00454482\n",
            "Iteration 403, loss = 0.00461057\n",
            "Iteration 404, loss = 0.00446686\n",
            "Iteration 405, loss = 0.00450142\n",
            "Iteration 406, loss = 0.00441137\n",
            "Iteration 407, loss = 0.00445273\n",
            "Iteration 408, loss = 0.00447824\n",
            "Iteration 409, loss = 0.00474906\n",
            "Iteration 410, loss = 0.00445513\n",
            "Iteration 411, loss = 0.00448402\n",
            "Iteration 412, loss = 0.00436673\n",
            "Iteration 413, loss = 0.00445095\n",
            "Iteration 414, loss = 0.00428957\n",
            "Iteration 415, loss = 0.00453402\n",
            "Iteration 416, loss = 0.00434516\n",
            "Iteration 417, loss = 0.00433591\n",
            "Iteration 418, loss = 0.00429071\n",
            "Iteration 419, loss = 0.00449391\n",
            "Iteration 420, loss = 0.00425276\n",
            "Iteration 421, loss = 0.00427957\n",
            "Iteration 422, loss = 0.00422220\n",
            "Iteration 423, loss = 0.00434014\n",
            "Iteration 424, loss = 0.00432843\n",
            "Iteration 425, loss = 0.00405890\n",
            "Iteration 426, loss = 0.00424915\n",
            "Iteration 427, loss = 0.00421807\n",
            "Iteration 428, loss = 0.00411762\n",
            "Iteration 429, loss = 0.00409373\n",
            "Iteration 430, loss = 0.00413313\n",
            "Iteration 431, loss = 0.00410345\n",
            "Iteration 432, loss = 0.00402072\n",
            "Iteration 433, loss = 0.00402294\n",
            "Iteration 434, loss = 0.00400512\n",
            "Iteration 435, loss = 0.00399673\n",
            "Iteration 436, loss = 0.00401381\n",
            "Iteration 437, loss = 0.00397933\n",
            "Iteration 438, loss = 0.00400180\n",
            "Iteration 439, loss = 0.00388848\n",
            "Iteration 440, loss = 0.00396304\n",
            "Iteration 441, loss = 0.00395617\n",
            "Iteration 442, loss = 0.00388547\n",
            "Iteration 443, loss = 0.00382298\n",
            "Iteration 444, loss = 0.00407986\n",
            "Iteration 445, loss = 0.00391103\n",
            "Iteration 446, loss = 0.00389537\n",
            "Iteration 447, loss = 0.00383955\n",
            "Iteration 448, loss = 0.00386208\n",
            "Iteration 449, loss = 0.00377434\n",
            "Iteration 450, loss = 0.00377080\n",
            "Iteration 451, loss = 0.00371497\n",
            "Iteration 452, loss = 0.00373683\n",
            "Iteration 453, loss = 0.00367535\n",
            "Iteration 454, loss = 0.00392952\n",
            "Iteration 455, loss = 0.00377176\n",
            "Iteration 456, loss = 0.00370572\n",
            "Iteration 457, loss = 0.00365650\n",
            "Iteration 458, loss = 0.00367527\n",
            "Iteration 459, loss = 0.00374197\n",
            "Iteration 460, loss = 0.00363560\n",
            "Iteration 461, loss = 0.00365899\n",
            "Iteration 462, loss = 0.00359422\n",
            "Iteration 463, loss = 0.00357424\n",
            "Iteration 464, loss = 0.00356387\n",
            "Iteration 465, loss = 0.00352858\n",
            "Iteration 466, loss = 0.00349411\n",
            "Iteration 467, loss = 0.00350671\n",
            "Iteration 468, loss = 0.00354167\n",
            "Iteration 469, loss = 0.00348180\n",
            "Iteration 470, loss = 0.00357847\n",
            "Iteration 471, loss = 0.00342995\n",
            "Iteration 472, loss = 0.00349061\n",
            "Iteration 473, loss = 0.00340858\n",
            "Iteration 474, loss = 0.00340723\n",
            "Iteration 475, loss = 0.00343453\n",
            "Iteration 476, loss = 0.00335599\n",
            "Iteration 477, loss = 0.00339157\n",
            "Iteration 478, loss = 0.00339771\n",
            "Iteration 479, loss = 0.00339579\n",
            "Iteration 480, loss = 0.00339395\n",
            "Iteration 481, loss = 0.00335565\n",
            "Iteration 482, loss = 0.00331586\n",
            "Iteration 483, loss = 0.00358335\n",
            "Iteration 484, loss = 0.00331459\n",
            "Iteration 485, loss = 0.00339760\n",
            "Iteration 486, loss = 0.00320759\n",
            "Iteration 487, loss = 0.00333661\n",
            "Iteration 488, loss = 0.00334038\n",
            "Iteration 489, loss = 0.00326161\n",
            "Iteration 490, loss = 0.00317900\n",
            "Iteration 491, loss = 0.00335159\n",
            "Iteration 492, loss = 0.00334312\n",
            "Iteration 493, loss = 0.00322552\n",
            "Iteration 494, loss = 0.00332487\n",
            "Iteration 495, loss = 0.00328306\n",
            "Iteration 496, loss = 0.00320730\n",
            "Iteration 497, loss = 0.00319332\n",
            "Iteration 498, loss = 0.00313198\n",
            "Iteration 499, loss = 0.00316370\n",
            "Iteration 500, loss = 0.00313357\n",
            "Iteration 501, loss = 0.00305828\n",
            "Iteration 502, loss = 0.00309807\n",
            "Iteration 503, loss = 0.00310827\n",
            "Iteration 504, loss = 0.00322466\n",
            "Iteration 505, loss = 0.00308601\n",
            "Iteration 506, loss = 0.00307651\n",
            "Iteration 507, loss = 0.00307648\n",
            "Iteration 508, loss = 0.00304508\n",
            "Iteration 509, loss = 0.00296573\n",
            "Iteration 510, loss = 0.00301699\n",
            "Iteration 511, loss = 0.00302125\n",
            "Iteration 512, loss = 0.00296105\n",
            "Iteration 513, loss = 0.00297269\n",
            "Iteration 514, loss = 0.00319374\n",
            "Iteration 515, loss = 0.00295141\n",
            "Iteration 516, loss = 0.00311562\n",
            "Iteration 517, loss = 0.00304834\n",
            "Iteration 518, loss = 0.00289892\n",
            "Iteration 519, loss = 0.00297333\n",
            "Iteration 520, loss = 0.00300359\n",
            "Iteration 521, loss = 0.00288813\n",
            "Iteration 522, loss = 0.00292006\n",
            "Iteration 523, loss = 0.00288098\n",
            "Iteration 524, loss = 0.00294764\n",
            "Iteration 525, loss = 0.00279143\n",
            "Iteration 526, loss = 0.00287592\n",
            "Iteration 527, loss = 0.00281914\n",
            "Iteration 528, loss = 0.00291722\n",
            "Iteration 529, loss = 0.00292936\n",
            "Iteration 530, loss = 0.00284026\n",
            "Iteration 531, loss = 0.00274453\n",
            "Iteration 532, loss = 0.00285492\n",
            "Iteration 533, loss = 0.00282478\n",
            "Iteration 534, loss = 0.00280501\n",
            "Iteration 535, loss = 0.00281189\n",
            "Iteration 536, loss = 0.00283462\n",
            "Iteration 537, loss = 0.00274280\n",
            "Iteration 538, loss = 0.00280342\n",
            "Iteration 539, loss = 0.00267462\n",
            "Iteration 540, loss = 0.00272918\n",
            "Iteration 541, loss = 0.00268173\n",
            "Iteration 542, loss = 0.00277780\n",
            "Iteration 543, loss = 0.00263156\n",
            "Iteration 544, loss = 0.00271357\n",
            "Iteration 545, loss = 0.00264907\n",
            "Iteration 546, loss = 0.00268662\n",
            "Iteration 547, loss = 0.00259083\n",
            "Iteration 548, loss = 0.00261685\n",
            "Iteration 549, loss = 0.00256220\n",
            "Iteration 550, loss = 0.00272771\n",
            "Iteration 551, loss = 0.00255119\n",
            "Iteration 552, loss = 0.00279168\n",
            "Iteration 553, loss = 0.00263921\n",
            "Iteration 554, loss = 0.00270457\n",
            "Iteration 555, loss = 0.00276872\n",
            "Iteration 556, loss = 0.00266064\n",
            "Iteration 557, loss = 0.00266259\n",
            "Iteration 558, loss = 0.00252266\n",
            "Iteration 559, loss = 0.00252330\n",
            "Iteration 560, loss = 0.00254370\n",
            "Iteration 561, loss = 0.00248457\n",
            "Iteration 562, loss = 0.00261956\n",
            "Iteration 563, loss = 0.00252959\n",
            "Iteration 564, loss = 0.00255265\n",
            "Iteration 565, loss = 0.00245200\n",
            "Iteration 566, loss = 0.00240328\n",
            "Iteration 567, loss = 0.00246686\n",
            "Iteration 568, loss = 0.00246500\n",
            "Iteration 569, loss = 0.00244502\n",
            "Iteration 570, loss = 0.00243184\n",
            "Iteration 571, loss = 0.00241176\n",
            "Iteration 572, loss = 0.00242441\n",
            "Iteration 573, loss = 0.00254290\n",
            "Iteration 574, loss = 0.00238827\n",
            "Iteration 575, loss = 0.00246460\n",
            "Iteration 576, loss = 0.00234331\n",
            "Iteration 577, loss = 0.00246258\n",
            "Iteration 578, loss = 0.00243499\n",
            "Iteration 579, loss = 0.00234893\n",
            "Iteration 580, loss = 0.00231060\n",
            "Iteration 581, loss = 0.00237000\n",
            "Iteration 582, loss = 0.00232596\n",
            "Iteration 583, loss = 0.00244047\n",
            "Iteration 584, loss = 0.00243188\n",
            "Iteration 585, loss = 0.00243013\n",
            "Iteration 586, loss = 0.00245590\n",
            "Iteration 587, loss = 0.00225364\n",
            "Iteration 588, loss = 0.00261309\n",
            "Iteration 589, loss = 0.00229224\n",
            "Iteration 590, loss = 0.00227668\n",
            "Iteration 591, loss = 0.00222713\n",
            "Iteration 592, loss = 0.00233123\n",
            "Iteration 593, loss = 0.00224619\n",
            "Iteration 594, loss = 0.00226941\n",
            "Iteration 595, loss = 0.00228812\n",
            "Iteration 596, loss = 0.00222792\n",
            "Iteration 597, loss = 0.00246258\n",
            "Iteration 598, loss = 0.00271955\n",
            "Iteration 599, loss = 0.00230600\n",
            "Iteration 600, loss = 0.00231324\n",
            "Iteration 601, loss = 0.00215440\n",
            "Iteration 602, loss = 0.00227534\n",
            "Iteration 603, loss = 0.00216316\n",
            "Iteration 604, loss = 0.00223990\n",
            "Iteration 605, loss = 0.00222567\n",
            "Iteration 606, loss = 0.00224043\n",
            "Iteration 607, loss = 0.00216740\n",
            "Iteration 608, loss = 0.00208258\n",
            "Iteration 609, loss = 0.00220667\n",
            "Iteration 610, loss = 0.00211290\n",
            "Iteration 611, loss = 0.00235418\n",
            "Iteration 612, loss = 0.00208508\n",
            "Iteration 613, loss = 0.00224150\n",
            "Iteration 614, loss = 0.00231137\n",
            "Iteration 615, loss = 0.00210533\n",
            "Iteration 616, loss = 0.00212373\n",
            "Iteration 617, loss = 0.00207171\n",
            "Iteration 618, loss = 0.00210565\n",
            "Iteration 619, loss = 0.00203921\n",
            "Iteration 620, loss = 0.00207179\n",
            "Iteration 621, loss = 0.00203519\n",
            "Iteration 622, loss = 0.00207713\n",
            "Iteration 623, loss = 0.00206977\n",
            "Iteration 624, loss = 0.00214132\n",
            "Iteration 625, loss = 0.00209297\n",
            "Iteration 626, loss = 0.00205469\n",
            "Iteration 627, loss = 0.00204172\n",
            "Iteration 628, loss = 0.00202285\n",
            "Iteration 629, loss = 0.00198825\n",
            "Iteration 630, loss = 0.00204154\n",
            "Iteration 631, loss = 0.00196308\n",
            "Iteration 632, loss = 0.00200043\n",
            "Iteration 633, loss = 0.00195125\n",
            "Iteration 634, loss = 0.00194850\n",
            "Iteration 635, loss = 0.00199108\n",
            "Iteration 636, loss = 0.00193414\n",
            "Iteration 637, loss = 0.00193935\n",
            "Iteration 638, loss = 0.00200779\n",
            "Iteration 639, loss = 0.00204531\n",
            "Iteration 640, loss = 0.00196873\n",
            "Iteration 641, loss = 0.00200622\n",
            "Iteration 642, loss = 0.00191475\n",
            "Iteration 643, loss = 0.00188363\n",
            "Iteration 644, loss = 0.00185947\n",
            "Iteration 645, loss = 0.00191643\n",
            "Iteration 646, loss = 0.00208412\n",
            "Iteration 647, loss = 0.00191830\n",
            "Iteration 648, loss = 0.00188789\n",
            "Iteration 649, loss = 0.00183699\n",
            "Iteration 650, loss = 0.00189402\n",
            "Iteration 651, loss = 0.00193461\n",
            "Iteration 652, loss = 0.00187463\n",
            "Iteration 653, loss = 0.00182725\n",
            "Iteration 654, loss = 0.00193325\n",
            "Iteration 655, loss = 0.00180950\n",
            "Iteration 656, loss = 0.00184812\n",
            "Iteration 657, loss = 0.00193331\n",
            "Iteration 658, loss = 0.00184511\n",
            "Iteration 659, loss = 0.00185273\n",
            "Iteration 660, loss = 0.00183749\n",
            "Iteration 661, loss = 0.00181838\n",
            "Iteration 662, loss = 0.00178732\n",
            "Iteration 663, loss = 0.00181989\n",
            "Iteration 664, loss = 0.00184491\n",
            "Iteration 665, loss = 0.00180849\n",
            "Iteration 666, loss = 0.00175941\n",
            "Iteration 667, loss = 0.00179678\n",
            "Iteration 668, loss = 0.00182254\n",
            "Iteration 669, loss = 0.00170931\n",
            "Iteration 670, loss = 0.00200673\n",
            "Iteration 671, loss = 0.00207796\n",
            "Iteration 672, loss = 0.00166161\n",
            "Iteration 673, loss = 0.00181600\n",
            "Iteration 674, loss = 0.00178086\n",
            "Iteration 675, loss = 0.00184815\n",
            "Iteration 676, loss = 0.00178893\n",
            "Iteration 677, loss = 0.00177374\n",
            "Iteration 678, loss = 0.00170361\n",
            "Iteration 679, loss = 0.00173784\n",
            "Iteration 680, loss = 0.00177947\n",
            "Iteration 681, loss = 0.00171815\n",
            "Iteration 682, loss = 0.00174672\n",
            "Iteration 683, loss = 0.00164240\n",
            "Iteration 684, loss = 0.00175362\n",
            "Iteration 685, loss = 0.00170388\n",
            "Iteration 686, loss = 0.00160989\n",
            "Iteration 687, loss = 0.00168310\n",
            "Iteration 688, loss = 0.00173598\n",
            "Iteration 689, loss = 0.00163416\n",
            "Iteration 690, loss = 0.00164739\n",
            "Iteration 691, loss = 0.00163252\n",
            "Iteration 692, loss = 0.00166806\n",
            "Iteration 693, loss = 0.00170892\n",
            "Iteration 694, loss = 0.00164584\n",
            "Iteration 695, loss = 0.00177801\n",
            "Iteration 696, loss = 0.00162543\n",
            "Iteration 697, loss = 0.00171143\n",
            "Training loss did not improve more than tol=0.000010 for 10 consecutive epochs. Stopping.\n"
          ]
        },
        {
          "output_type": "execute_result",
          "data": {
            "text/plain": [
              "MLPClassifier(hidden_layer_sizes=(20, 20), max_iter=1500, tol=1e-05,\n",
              "              verbose=True)"
            ],
            "text/html": [
              "<style>#sk-container-id-6 {color: black;}#sk-container-id-6 pre{padding: 0;}#sk-container-id-6 div.sk-toggleable {background-color: white;}#sk-container-id-6 label.sk-toggleable__label {cursor: pointer;display: block;width: 100%;margin-bottom: 0;padding: 0.3em;box-sizing: border-box;text-align: center;}#sk-container-id-6 label.sk-toggleable__label-arrow:before {content: \"▸\";float: left;margin-right: 0.25em;color: #696969;}#sk-container-id-6 label.sk-toggleable__label-arrow:hover:before {color: black;}#sk-container-id-6 div.sk-estimator:hover label.sk-toggleable__label-arrow:before {color: black;}#sk-container-id-6 div.sk-toggleable__content {max-height: 0;max-width: 0;overflow: hidden;text-align: left;background-color: #f0f8ff;}#sk-container-id-6 div.sk-toggleable__content pre {margin: 0.2em;color: black;border-radius: 0.25em;background-color: #f0f8ff;}#sk-container-id-6 input.sk-toggleable__control:checked~div.sk-toggleable__content {max-height: 200px;max-width: 100%;overflow: auto;}#sk-container-id-6 input.sk-toggleable__control:checked~label.sk-toggleable__label-arrow:before {content: \"▾\";}#sk-container-id-6 div.sk-estimator input.sk-toggleable__control:checked~label.sk-toggleable__label {background-color: #d4ebff;}#sk-container-id-6 div.sk-label input.sk-toggleable__control:checked~label.sk-toggleable__label {background-color: #d4ebff;}#sk-container-id-6 input.sk-hidden--visually {border: 0;clip: rect(1px 1px 1px 1px);clip: rect(1px, 1px, 1px, 1px);height: 1px;margin: -1px;overflow: hidden;padding: 0;position: absolute;width: 1px;}#sk-container-id-6 div.sk-estimator {font-family: monospace;background-color: #f0f8ff;border: 1px dotted black;border-radius: 0.25em;box-sizing: border-box;margin-bottom: 0.5em;}#sk-container-id-6 div.sk-estimator:hover {background-color: #d4ebff;}#sk-container-id-6 div.sk-parallel-item::after {content: \"\";width: 100%;border-bottom: 1px solid gray;flex-grow: 1;}#sk-container-id-6 div.sk-label:hover label.sk-toggleable__label {background-color: #d4ebff;}#sk-container-id-6 div.sk-serial::before {content: \"\";position: absolute;border-left: 1px solid gray;box-sizing: border-box;top: 0;bottom: 0;left: 50%;z-index: 0;}#sk-container-id-6 div.sk-serial {display: flex;flex-direction: column;align-items: center;background-color: white;padding-right: 0.2em;padding-left: 0.2em;position: relative;}#sk-container-id-6 div.sk-item {position: relative;z-index: 1;}#sk-container-id-6 div.sk-parallel {display: flex;align-items: stretch;justify-content: center;background-color: white;position: relative;}#sk-container-id-6 div.sk-item::before, #sk-container-id-6 div.sk-parallel-item::before {content: \"\";position: absolute;border-left: 1px solid gray;box-sizing: border-box;top: 0;bottom: 0;left: 50%;z-index: -1;}#sk-container-id-6 div.sk-parallel-item {display: flex;flex-direction: column;z-index: 1;position: relative;background-color: white;}#sk-container-id-6 div.sk-parallel-item:first-child::after {align-self: flex-end;width: 50%;}#sk-container-id-6 div.sk-parallel-item:last-child::after {align-self: flex-start;width: 50%;}#sk-container-id-6 div.sk-parallel-item:only-child::after {width: 0;}#sk-container-id-6 div.sk-dashed-wrapped {border: 1px dashed gray;margin: 0 0.4em 0.5em 0.4em;box-sizing: border-box;padding-bottom: 0.4em;background-color: white;}#sk-container-id-6 div.sk-label label {font-family: monospace;font-weight: bold;display: inline-block;line-height: 1.2em;}#sk-container-id-6 div.sk-label-container {text-align: center;}#sk-container-id-6 div.sk-container {/* jupyter's `normalize.less` sets `[hidden] { display: none; }` but bootstrap.min.css set `[hidden] { display: none !important; }` so we also need the `!important` here to be able to override the default hidden behavior on the sphinx rendered scikit-learn.org. See: https://github.com/scikit-learn/scikit-learn/issues/21755 */display: inline-block !important;position: relative;}#sk-container-id-6 div.sk-text-repr-fallback {display: none;}</style><div id=\"sk-container-id-6\" class=\"sk-top-container\"><div class=\"sk-text-repr-fallback\"><pre>MLPClassifier(hidden_layer_sizes=(20, 20), max_iter=1500, tol=1e-05,\n",
              "              verbose=True)</pre><b>In a Jupyter environment, please rerun this cell to show the HTML representation or trust the notebook. <br />On GitHub, the HTML representation is unable to render, please try loading this page with nbviewer.org.</b></div><div class=\"sk-container\" hidden><div class=\"sk-item\"><div class=\"sk-estimator sk-toggleable\"><input class=\"sk-toggleable__control sk-hidden--visually\" id=\"sk-estimator-id-6\" type=\"checkbox\" checked><label for=\"sk-estimator-id-6\" class=\"sk-toggleable__label sk-toggleable__label-arrow\">MLPClassifier</label><div class=\"sk-toggleable__content\"><pre>MLPClassifier(hidden_layer_sizes=(20, 20), max_iter=1500, tol=1e-05,\n",
              "              verbose=True)</pre></div></div></div></div></div>"
            ]
          },
          "metadata": {},
          "execution_count": 73
        }
      ]
    },
    {
      "cell_type": "markdown",
      "source": [
        "#### Neural Network Census"
      ],
      "metadata": {
        "id": "LnsZISh_pL2x"
      }
    },
    {
      "cell_type": "code",
      "source": [
        "neural_network_census = MLPClassifier(verbose=True, max_iter=20000, tol=0.000010, solver='adam', activation='relu', hidden_layer_sizes=(55,55))\n",
        "neural_network_census.fit(x_census_train, y_census_train)"
      ],
      "metadata": {
        "colab": {
          "base_uri": "https://localhost:8080/",
          "height": 1000
        },
        "id": "5jz-hYH3pOjJ",
        "outputId": "07d78be0-232e-4ca2-a359-9fac0f7181b0"
      },
      "execution_count": 78,
      "outputs": [
        {
          "output_type": "stream",
          "name": "stdout",
          "text": [
            "Iteration 1, loss = 0.43263286\n",
            "Iteration 2, loss = 0.33407109\n",
            "Iteration 3, loss = 0.32000080\n",
            "Iteration 4, loss = 0.31158917\n",
            "Iteration 5, loss = 0.30543072\n",
            "Iteration 6, loss = 0.30189302\n",
            "Iteration 7, loss = 0.29863885\n",
            "Iteration 8, loss = 0.29503892\n",
            "Iteration 9, loss = 0.29279974\n",
            "Iteration 10, loss = 0.29228005\n",
            "Iteration 11, loss = 0.28800887\n",
            "Iteration 12, loss = 0.28560749\n",
            "Iteration 13, loss = 0.28428645\n",
            "Iteration 14, loss = 0.28155401\n",
            "Iteration 15, loss = 0.28076062\n",
            "Iteration 16, loss = 0.27854175\n",
            "Iteration 17, loss = 0.27735748\n",
            "Iteration 18, loss = 0.27559252\n",
            "Iteration 19, loss = 0.27400473\n",
            "Iteration 20, loss = 0.27228781\n",
            "Iteration 21, loss = 0.26993229\n",
            "Iteration 22, loss = 0.26950867\n",
            "Iteration 23, loss = 0.26782937\n",
            "Iteration 24, loss = 0.26622891\n",
            "Iteration 25, loss = 0.26455220\n",
            "Iteration 26, loss = 0.26396182\n",
            "Iteration 27, loss = 0.26153178\n",
            "Iteration 28, loss = 0.26007394\n",
            "Iteration 29, loss = 0.25860553\n",
            "Iteration 30, loss = 0.25742658\n",
            "Iteration 31, loss = 0.25598756\n",
            "Iteration 32, loss = 0.25555516\n",
            "Iteration 33, loss = 0.25444802\n",
            "Iteration 34, loss = 0.25248284\n",
            "Iteration 35, loss = 0.25077512\n",
            "Iteration 36, loss = 0.25096832\n",
            "Iteration 37, loss = 0.24915883\n",
            "Iteration 38, loss = 0.24732943\n",
            "Iteration 39, loss = 0.24855258\n",
            "Iteration 40, loss = 0.24562671\n",
            "Iteration 41, loss = 0.24432585\n",
            "Iteration 42, loss = 0.24282196\n",
            "Iteration 43, loss = 0.24447310\n",
            "Iteration 44, loss = 0.24069350\n",
            "Iteration 45, loss = 0.23964901\n",
            "Iteration 46, loss = 0.23841671\n",
            "Iteration 47, loss = 0.23867376\n",
            "Iteration 48, loss = 0.23635678\n",
            "Iteration 49, loss = 0.23752867\n",
            "Iteration 50, loss = 0.23505566\n",
            "Iteration 51, loss = 0.23402905\n",
            "Iteration 52, loss = 0.23366963\n",
            "Iteration 53, loss = 0.23136986\n",
            "Iteration 54, loss = 0.23195919\n",
            "Iteration 55, loss = 0.23150177\n",
            "Iteration 56, loss = 0.22942261\n",
            "Iteration 57, loss = 0.22905692\n",
            "Iteration 58, loss = 0.22731882\n",
            "Iteration 59, loss = 0.22793551\n",
            "Iteration 60, loss = 0.22660836\n",
            "Iteration 61, loss = 0.22541503\n",
            "Iteration 62, loss = 0.22412862\n",
            "Iteration 63, loss = 0.22450274\n",
            "Iteration 64, loss = 0.22313669\n",
            "Iteration 65, loss = 0.22367400\n",
            "Iteration 66, loss = 0.22144516\n",
            "Iteration 67, loss = 0.22184691\n",
            "Iteration 68, loss = 0.21987526\n",
            "Iteration 69, loss = 0.21927113\n",
            "Iteration 70, loss = 0.21784024\n",
            "Iteration 71, loss = 0.21636676\n",
            "Iteration 72, loss = 0.21684258\n",
            "Iteration 73, loss = 0.21713564\n",
            "Iteration 74, loss = 0.21627056\n",
            "Iteration 75, loss = 0.21459133\n",
            "Iteration 76, loss = 0.21355245\n",
            "Iteration 77, loss = 0.21328170\n",
            "Iteration 78, loss = 0.21285575\n",
            "Iteration 79, loss = 0.21244017\n",
            "Iteration 80, loss = 0.21333636\n",
            "Iteration 81, loss = 0.21026658\n",
            "Iteration 82, loss = 0.21033209\n",
            "Iteration 83, loss = 0.20955627\n",
            "Iteration 84, loss = 0.20868580\n",
            "Iteration 85, loss = 0.20868425\n",
            "Iteration 86, loss = 0.20720789\n",
            "Iteration 87, loss = 0.20848896\n",
            "Iteration 88, loss = 0.20607065\n",
            "Iteration 89, loss = 0.20529862\n",
            "Iteration 90, loss = 0.20521482\n",
            "Iteration 91, loss = 0.20343445\n",
            "Iteration 92, loss = 0.20392077\n",
            "Iteration 93, loss = 0.20377161\n",
            "Iteration 94, loss = 0.20224235\n",
            "Iteration 95, loss = 0.20135429\n",
            "Iteration 96, loss = 0.20207803\n",
            "Iteration 97, loss = 0.20059028\n",
            "Iteration 98, loss = 0.20094138\n",
            "Iteration 99, loss = 0.20108294\n",
            "Iteration 100, loss = 0.19934970\n",
            "Iteration 101, loss = 0.19910085\n",
            "Iteration 102, loss = 0.19966801\n",
            "Iteration 103, loss = 0.19888143\n",
            "Iteration 104, loss = 0.19920109\n",
            "Iteration 105, loss = 0.19636498\n",
            "Iteration 106, loss = 0.19517699\n",
            "Iteration 107, loss = 0.19433524\n",
            "Iteration 108, loss = 0.19629954\n",
            "Iteration 109, loss = 0.19569265\n",
            "Iteration 110, loss = 0.19505591\n",
            "Iteration 111, loss = 0.19379437\n",
            "Iteration 112, loss = 0.19599004\n",
            "Iteration 113, loss = 0.19252528\n",
            "Iteration 114, loss = 0.19295834\n",
            "Iteration 115, loss = 0.19270239\n",
            "Iteration 116, loss = 0.19253063\n",
            "Iteration 117, loss = 0.19182490\n",
            "Iteration 118, loss = 0.19134368\n",
            "Iteration 119, loss = 0.18991818\n",
            "Iteration 120, loss = 0.19031192\n",
            "Iteration 121, loss = 0.18932153\n",
            "Iteration 122, loss = 0.18977538\n",
            "Iteration 123, loss = 0.18922394\n",
            "Iteration 124, loss = 0.18822009\n",
            "Iteration 125, loss = 0.18872160\n",
            "Iteration 126, loss = 0.18696713\n",
            "Iteration 127, loss = 0.18760415\n",
            "Iteration 128, loss = 0.18717256\n",
            "Iteration 129, loss = 0.18577152\n",
            "Iteration 130, loss = 0.18612855\n",
            "Iteration 131, loss = 0.18503095\n",
            "Iteration 132, loss = 0.18500136\n",
            "Iteration 133, loss = 0.18523782\n",
            "Iteration 134, loss = 0.18257843\n",
            "Iteration 135, loss = 0.18487994\n",
            "Iteration 136, loss = 0.18439340\n",
            "Iteration 137, loss = 0.18207509\n",
            "Iteration 138, loss = 0.18329612\n",
            "Iteration 139, loss = 0.18270052\n",
            "Iteration 140, loss = 0.18389228\n",
            "Iteration 141, loss = 0.18087062\n",
            "Iteration 142, loss = 0.18194032\n",
            "Iteration 143, loss = 0.17998694\n",
            "Iteration 144, loss = 0.18082430\n",
            "Iteration 145, loss = 0.17884451\n",
            "Iteration 146, loss = 0.18085905\n",
            "Iteration 147, loss = 0.18219061\n",
            "Iteration 148, loss = 0.17887153\n",
            "Iteration 149, loss = 0.18011575\n",
            "Iteration 150, loss = 0.17838422\n",
            "Iteration 151, loss = 0.17605587\n",
            "Iteration 152, loss = 0.17966168\n",
            "Iteration 153, loss = 0.17695821\n",
            "Iteration 154, loss = 0.17717861\n",
            "Iteration 155, loss = 0.17735110\n",
            "Iteration 156, loss = 0.17497030\n",
            "Iteration 157, loss = 0.17702990\n",
            "Iteration 158, loss = 0.17550459\n",
            "Iteration 159, loss = 0.17402102\n",
            "Iteration 160, loss = 0.17568247\n",
            "Iteration 161, loss = 0.17511497\n",
            "Iteration 162, loss = 0.17437763\n",
            "Iteration 163, loss = 0.17394826\n",
            "Iteration 164, loss = 0.17504888\n",
            "Iteration 165, loss = 0.17421707\n",
            "Iteration 166, loss = 0.17433945\n",
            "Iteration 167, loss = 0.17227649\n",
            "Iteration 168, loss = 0.17206714\n",
            "Iteration 169, loss = 0.17190608\n",
            "Iteration 170, loss = 0.17068668\n",
            "Iteration 171, loss = 0.17362156\n",
            "Iteration 172, loss = 0.17071436\n",
            "Iteration 173, loss = 0.17122755\n",
            "Iteration 174, loss = 0.17131941\n",
            "Iteration 175, loss = 0.17241037\n",
            "Iteration 176, loss = 0.17022851\n",
            "Iteration 177, loss = 0.17130708\n",
            "Iteration 178, loss = 0.16986928\n",
            "Iteration 179, loss = 0.16945849\n",
            "Iteration 180, loss = 0.17145665\n",
            "Iteration 181, loss = 0.17055293\n",
            "Iteration 182, loss = 0.16802791\n",
            "Iteration 183, loss = 0.16895276\n",
            "Iteration 184, loss = 0.16850998\n",
            "Iteration 185, loss = 0.16602809\n",
            "Iteration 186, loss = 0.16555621\n",
            "Iteration 187, loss = 0.16677662\n",
            "Iteration 188, loss = 0.16635995\n",
            "Iteration 189, loss = 0.16537272\n",
            "Iteration 190, loss = 0.16530239\n",
            "Iteration 191, loss = 0.16408255\n",
            "Iteration 192, loss = 0.16544747\n",
            "Iteration 193, loss = 0.16436640\n",
            "Iteration 194, loss = 0.16730750\n",
            "Iteration 195, loss = 0.16850872\n",
            "Iteration 196, loss = 0.16603887\n",
            "Iteration 197, loss = 0.16494133\n",
            "Iteration 198, loss = 0.16356637\n",
            "Iteration 199, loss = 0.16517158\n",
            "Iteration 200, loss = 0.16297559\n",
            "Iteration 201, loss = 0.16289463\n",
            "Iteration 202, loss = 0.16281295\n",
            "Iteration 203, loss = 0.16255698\n",
            "Iteration 204, loss = 0.16322128\n",
            "Iteration 205, loss = 0.16167053\n",
            "Iteration 206, loss = 0.16136606\n",
            "Iteration 207, loss = 0.16339640\n",
            "Iteration 208, loss = 0.16125650\n",
            "Iteration 209, loss = 0.16180426\n",
            "Iteration 210, loss = 0.16482530\n",
            "Iteration 211, loss = 0.16181712\n",
            "Iteration 212, loss = 0.16127466\n",
            "Iteration 213, loss = 0.15942972\n",
            "Iteration 214, loss = 0.16076924\n",
            "Iteration 215, loss = 0.15960728\n",
            "Iteration 216, loss = 0.15966603\n",
            "Iteration 217, loss = 0.15915134\n",
            "Iteration 218, loss = 0.15913084\n",
            "Iteration 219, loss = 0.15894692\n",
            "Iteration 220, loss = 0.16035982\n",
            "Iteration 221, loss = 0.16079970\n",
            "Iteration 222, loss = 0.16134610\n",
            "Iteration 223, loss = 0.15660117\n",
            "Iteration 224, loss = 0.15830519\n",
            "Iteration 225, loss = 0.15777048\n",
            "Iteration 226, loss = 0.15651725\n",
            "Iteration 227, loss = 0.15814906\n",
            "Iteration 228, loss = 0.15471913\n",
            "Iteration 229, loss = 0.15546849\n",
            "Iteration 230, loss = 0.15689793\n",
            "Iteration 231, loss = 0.15578906\n",
            "Iteration 232, loss = 0.15486502\n",
            "Iteration 233, loss = 0.15657613\n",
            "Iteration 234, loss = 0.15508982\n",
            "Iteration 235, loss = 0.15487510\n",
            "Iteration 236, loss = 0.15444121\n",
            "Iteration 237, loss = 0.15577639\n",
            "Iteration 238, loss = 0.15412525\n",
            "Iteration 239, loss = 0.15362904\n",
            "Iteration 240, loss = 0.15450908\n",
            "Iteration 241, loss = 0.15269725\n",
            "Iteration 242, loss = 0.15714635\n",
            "Iteration 243, loss = 0.15428757\n",
            "Iteration 244, loss = 0.15639572\n",
            "Iteration 245, loss = 0.15576090\n",
            "Iteration 246, loss = 0.15257534\n",
            "Iteration 247, loss = 0.15562830\n",
            "Iteration 248, loss = 0.15316132\n",
            "Iteration 249, loss = 0.15192494\n",
            "Iteration 250, loss = 0.15246855\n",
            "Iteration 251, loss = 0.15427852\n",
            "Iteration 252, loss = 0.15081595\n",
            "Iteration 253, loss = 0.15143009\n",
            "Iteration 254, loss = 0.15310860\n",
            "Iteration 255, loss = 0.15139459\n",
            "Iteration 256, loss = 0.15127891\n",
            "Iteration 257, loss = 0.15362739\n",
            "Iteration 258, loss = 0.15192251\n",
            "Iteration 259, loss = 0.15102336\n",
            "Iteration 260, loss = 0.15123126\n",
            "Iteration 261, loss = 0.15053103\n",
            "Iteration 262, loss = 0.14885216\n",
            "Iteration 263, loss = 0.15180597\n",
            "Iteration 264, loss = 0.15152556\n",
            "Iteration 265, loss = 0.15148465\n",
            "Iteration 266, loss = 0.15176698\n",
            "Iteration 267, loss = 0.14982088\n",
            "Iteration 268, loss = 0.15108023\n",
            "Iteration 269, loss = 0.14848717\n",
            "Iteration 270, loss = 0.14670790\n",
            "Iteration 271, loss = 0.14610356\n",
            "Iteration 272, loss = 0.14877746\n",
            "Iteration 273, loss = 0.14970576\n",
            "Iteration 274, loss = 0.14953704\n",
            "Iteration 275, loss = 0.14905368\n",
            "Iteration 276, loss = 0.14554045\n",
            "Iteration 277, loss = 0.15015569\n",
            "Iteration 278, loss = 0.14750159\n",
            "Iteration 279, loss = 0.14848146\n",
            "Iteration 280, loss = 0.14822126\n",
            "Iteration 281, loss = 0.14850795\n",
            "Iteration 282, loss = 0.14665949\n",
            "Iteration 283, loss = 0.14544812\n",
            "Iteration 284, loss = 0.14499677\n",
            "Iteration 285, loss = 0.14724299\n",
            "Iteration 286, loss = 0.14624468\n",
            "Iteration 287, loss = 0.14552499\n",
            "Iteration 288, loss = 0.14560020\n",
            "Iteration 289, loss = 0.14576435\n",
            "Iteration 290, loss = 0.14545354\n",
            "Iteration 291, loss = 0.14399875\n",
            "Iteration 292, loss = 0.14902489\n",
            "Iteration 293, loss = 0.14533661\n",
            "Iteration 294, loss = 0.14649216\n",
            "Iteration 295, loss = 0.14553724\n",
            "Iteration 296, loss = 0.14744877\n",
            "Iteration 297, loss = 0.14725684\n",
            "Iteration 298, loss = 0.14482990\n",
            "Iteration 299, loss = 0.14495582\n",
            "Iteration 300, loss = 0.14436832\n",
            "Iteration 301, loss = 0.14446774\n",
            "Iteration 302, loss = 0.14464718\n",
            "Training loss did not improve more than tol=0.000010 for 10 consecutive epochs. Stopping.\n"
          ]
        },
        {
          "output_type": "execute_result",
          "data": {
            "text/plain": [
              "MLPClassifier(hidden_layer_sizes=(55, 55), max_iter=20000, tol=1e-05,\n",
              "              verbose=True)"
            ],
            "text/html": [
              "<style>#sk-container-id-7 {color: black;}#sk-container-id-7 pre{padding: 0;}#sk-container-id-7 div.sk-toggleable {background-color: white;}#sk-container-id-7 label.sk-toggleable__label {cursor: pointer;display: block;width: 100%;margin-bottom: 0;padding: 0.3em;box-sizing: border-box;text-align: center;}#sk-container-id-7 label.sk-toggleable__label-arrow:before {content: \"▸\";float: left;margin-right: 0.25em;color: #696969;}#sk-container-id-7 label.sk-toggleable__label-arrow:hover:before {color: black;}#sk-container-id-7 div.sk-estimator:hover label.sk-toggleable__label-arrow:before {color: black;}#sk-container-id-7 div.sk-toggleable__content {max-height: 0;max-width: 0;overflow: hidden;text-align: left;background-color: #f0f8ff;}#sk-container-id-7 div.sk-toggleable__content pre {margin: 0.2em;color: black;border-radius: 0.25em;background-color: #f0f8ff;}#sk-container-id-7 input.sk-toggleable__control:checked~div.sk-toggleable__content {max-height: 200px;max-width: 100%;overflow: auto;}#sk-container-id-7 input.sk-toggleable__control:checked~label.sk-toggleable__label-arrow:before {content: \"▾\";}#sk-container-id-7 div.sk-estimator input.sk-toggleable__control:checked~label.sk-toggleable__label {background-color: #d4ebff;}#sk-container-id-7 div.sk-label input.sk-toggleable__control:checked~label.sk-toggleable__label {background-color: #d4ebff;}#sk-container-id-7 input.sk-hidden--visually {border: 0;clip: rect(1px 1px 1px 1px);clip: rect(1px, 1px, 1px, 1px);height: 1px;margin: -1px;overflow: hidden;padding: 0;position: absolute;width: 1px;}#sk-container-id-7 div.sk-estimator {font-family: monospace;background-color: #f0f8ff;border: 1px dotted black;border-radius: 0.25em;box-sizing: border-box;margin-bottom: 0.5em;}#sk-container-id-7 div.sk-estimator:hover {background-color: #d4ebff;}#sk-container-id-7 div.sk-parallel-item::after {content: \"\";width: 100%;border-bottom: 1px solid gray;flex-grow: 1;}#sk-container-id-7 div.sk-label:hover label.sk-toggleable__label {background-color: #d4ebff;}#sk-container-id-7 div.sk-serial::before {content: \"\";position: absolute;border-left: 1px solid gray;box-sizing: border-box;top: 0;bottom: 0;left: 50%;z-index: 0;}#sk-container-id-7 div.sk-serial {display: flex;flex-direction: column;align-items: center;background-color: white;padding-right: 0.2em;padding-left: 0.2em;position: relative;}#sk-container-id-7 div.sk-item {position: relative;z-index: 1;}#sk-container-id-7 div.sk-parallel {display: flex;align-items: stretch;justify-content: center;background-color: white;position: relative;}#sk-container-id-7 div.sk-item::before, #sk-container-id-7 div.sk-parallel-item::before {content: \"\";position: absolute;border-left: 1px solid gray;box-sizing: border-box;top: 0;bottom: 0;left: 50%;z-index: -1;}#sk-container-id-7 div.sk-parallel-item {display: flex;flex-direction: column;z-index: 1;position: relative;background-color: white;}#sk-container-id-7 div.sk-parallel-item:first-child::after {align-self: flex-end;width: 50%;}#sk-container-id-7 div.sk-parallel-item:last-child::after {align-self: flex-start;width: 50%;}#sk-container-id-7 div.sk-parallel-item:only-child::after {width: 0;}#sk-container-id-7 div.sk-dashed-wrapped {border: 1px dashed gray;margin: 0 0.4em 0.5em 0.4em;box-sizing: border-box;padding-bottom: 0.4em;background-color: white;}#sk-container-id-7 div.sk-label label {font-family: monospace;font-weight: bold;display: inline-block;line-height: 1.2em;}#sk-container-id-7 div.sk-label-container {text-align: center;}#sk-container-id-7 div.sk-container {/* jupyter's `normalize.less` sets `[hidden] { display: none; }` but bootstrap.min.css set `[hidden] { display: none !important; }` so we also need the `!important` here to be able to override the default hidden behavior on the sphinx rendered scikit-learn.org. See: https://github.com/scikit-learn/scikit-learn/issues/21755 */display: inline-block !important;position: relative;}#sk-container-id-7 div.sk-text-repr-fallback {display: none;}</style><div id=\"sk-container-id-7\" class=\"sk-top-container\"><div class=\"sk-text-repr-fallback\"><pre>MLPClassifier(hidden_layer_sizes=(55, 55), max_iter=20000, tol=1e-05,\n",
              "              verbose=True)</pre><b>In a Jupyter environment, please rerun this cell to show the HTML representation or trust the notebook. <br />On GitHub, the HTML representation is unable to render, please try loading this page with nbviewer.org.</b></div><div class=\"sk-container\" hidden><div class=\"sk-item\"><div class=\"sk-estimator sk-toggleable\"><input class=\"sk-toggleable__control sk-hidden--visually\" id=\"sk-estimator-id-7\" type=\"checkbox\" checked><label for=\"sk-estimator-id-7\" class=\"sk-toggleable__label sk-toggleable__label-arrow\">MLPClassifier</label><div class=\"sk-toggleable__content\"><pre>MLPClassifier(hidden_layer_sizes=(55, 55), max_iter=20000, tol=1e-05,\n",
              "              verbose=True)</pre></div></div></div></div></div>"
            ]
          },
          "metadata": {},
          "execution_count": 78
        }
      ]
    },
    {
      "cell_type": "markdown",
      "source": [
        "### Avaliação Neural"
      ],
      "metadata": {
        "id": "I8NxVjOSe3u6"
      }
    },
    {
      "cell_type": "markdown",
      "source": [
        "#### CN2"
      ],
      "metadata": {
        "id": "CbqmOpnqh9j-"
      }
    },
    {
      "cell_type": "code",
      "source": [
        "rules_predictors = Orange.evaluation.testing.TestOnTestData(train_credit_data_sample, test_credit_data_sample, [lambda test_data: credit_rules])"
      ],
      "metadata": {
        "id": "Xx18QPw7e-7S"
      },
      "execution_count": 60,
      "outputs": []
    },
    {
      "cell_type": "code",
      "source": [
        "Orange.evaluation.CA(rules_predictors)"
      ],
      "metadata": {
        "colab": {
          "base_uri": "https://localhost:8080/"
        },
        "id": "dzE2cDX2fQ6z",
        "outputId": "88147871-97c5-436c-a5c0-7d245e7284cd"
      },
      "execution_count": 61,
      "outputs": [
        {
          "output_type": "execute_result",
          "data": {
            "text/plain": [
              "array([0.972])"
            ]
          },
          "metadata": {},
          "execution_count": 61
        }
      ]
    },
    {
      "cell_type": "markdown",
      "source": [
        "#### KNN"
      ],
      "metadata": {
        "id": "MZwJWwg7jim7"
      }
    },
    {
      "cell_type": "code",
      "source": [
        "knn_predictors = knn_census.predict(x_census_test)"
      ],
      "metadata": {
        "id": "HnRVB-8ljjzR"
      },
      "execution_count": 62,
      "outputs": []
    },
    {
      "cell_type": "code",
      "source": [
        "accuracy_score(y_census_test, knn_predictors)"
      ],
      "metadata": {
        "colab": {
          "base_uri": "https://localhost:8080/"
        },
        "id": "dMv3GSNtkGrp",
        "outputId": "2d78e674-1971-4d5f-a30c-99bfe1a6b328"
      },
      "execution_count": 63,
      "outputs": [
        {
          "output_type": "execute_result",
          "data": {
            "text/plain": [
              "0.8301191499815748"
            ]
          },
          "metadata": {},
          "execution_count": 63
        }
      ]
    },
    {
      "cell_type": "code",
      "source": [
        "knn_confusion_matrix = ConfusionMatrix(knn_census)\n",
        "knn_confusion_matrix.fit(x_census_train, y_census_train)\n",
        "knn_confusion_matrix.score(x_census_test, y_census_test)"
      ],
      "metadata": {
        "colab": {
          "base_uri": "https://localhost:8080/",
          "height": 496
        },
        "id": "LVyEMJUTlE1g",
        "outputId": "9b5f741e-23e0-4aa7-f476-93b23f0cb6ba"
      },
      "execution_count": 64,
      "outputs": [
        {
          "output_type": "execute_result",
          "data": {
            "text/plain": [
              "0.8301191499815748"
            ]
          },
          "metadata": {},
          "execution_count": 64
        },
        {
          "output_type": "display_data",
          "data": {
            "text/plain": [
              "<Figure size 800x550 with 1 Axes>"
            ],
            "image/png": "[encoded data removed]"
          },
          "metadata": {}
        }
      ]
    },
    {
      "cell_type": "code",
      "source": [
        "print(classification_report(y_census_test, knn_predictors))"
      ],
      "metadata": {
        "colab": {
          "base_uri": "https://localhost:8080/"
        },
        "id": "tIopMy57ldR0",
        "outputId": "e038b9bd-3899-4180-8f2b-e2232724c362"
      },
      "execution_count": 65,
      "outputs": [
        {
          "output_type": "stream",
          "name": "stdout",
          "text": [
            "              precision    recall  f1-score   support\n",
            "\n",
            "           0       0.86      0.93      0.89      6159\n",
            "           1       0.71      0.52      0.60      1982\n",
            "\n",
            "    accuracy                           0.83      8141\n",
            "   macro avg       0.78      0.72      0.74      8141\n",
            "weighted avg       0.82      0.83      0.82      8141\n",
            "\n"
          ]
        }
      ]
    },
    {
      "cell_type": "markdown",
      "source": [
        "#### Neural Network Credit"
      ],
      "metadata": {
        "id": "2V869Xgwhz9m"
      }
    },
    {
      "cell_type": "code",
      "source": [
        "nn_credit_predictors = neural_network_credit.predict(x_credit_test)\n",
        "nn_credit_predictors"
      ],
      "metadata": {
        "colab": {
          "base_uri": "https://localhost:8080/"
        },
        "id": "ZtSTA7CKh3wz",
        "outputId": "457657e7-1830-4b51-f3cd-2a9200138588"
      },
      "execution_count": 79,
      "outputs": [
        {
          "output_type": "execute_result",
          "data": {
            "text/plain": [
              "array([1, 0, 0, 0, 0, 0, 0, 0, 0, 0, 0, 0, 0, 0, 0, 0, 1, 0, 0, 1, 0, 0,\n",
              "       0, 0, 0, 0, 0, 0, 0, 0, 0, 0, 0, 0, 0, 1, 1, 0, 0, 0, 0, 0, 0, 0,\n",
              "       0, 1, 1, 0, 1, 0, 0, 0, 0, 0, 0, 0, 0, 0, 0, 1, 0, 0, 0, 1, 0, 0,\n",
              "       0, 0, 0, 1, 0, 0, 1, 0, 0, 1, 0, 0, 1, 0, 0, 0, 0, 0, 0, 0, 1, 0,\n",
              "       0, 0, 0, 0, 0, 0, 0, 0, 0, 0, 0, 0, 0, 0, 0, 1, 0, 0, 1, 0, 0, 1,\n",
              "       0, 0, 1, 0, 0, 0, 0, 0, 0, 0, 0, 0, 0, 0, 0, 0, 0, 0, 0, 0, 0, 1,\n",
              "       0, 0, 0, 0, 0, 0, 0, 0, 0, 0, 0, 0, 1, 0, 0, 0, 0, 0, 0, 0, 1, 0,\n",
              "       0, 0, 0, 0, 0, 0, 0, 0, 0, 0, 0, 1, 0, 0, 0, 1, 0, 0, 0, 0, 0, 0,\n",
              "       0, 1, 0, 0, 0, 0, 0, 1, 0, 0, 0, 1, 0, 0, 0, 0, 1, 0, 0, 0, 0, 0,\n",
              "       0, 0, 0, 0, 0, 0, 0, 0, 1, 1, 0, 1, 0, 0, 0, 0, 0, 0, 0, 0, 0, 0,\n",
              "       1, 0, 0, 0, 0, 0, 0, 0, 0, 1, 0, 0, 0, 0, 0, 0, 0, 0, 0, 0, 0, 0,\n",
              "       0, 1, 1, 0, 1, 1, 0, 0, 0, 0, 0, 0, 0, 0, 0, 0, 1, 0, 1, 0, 0, 0,\n",
              "       0, 0, 0, 0, 0, 0, 0, 0, 0, 0, 0, 0, 0, 0, 0, 0, 0, 0, 0, 0, 0, 0,\n",
              "       0, 0, 0, 0, 0, 0, 0, 0, 0, 0, 1, 0, 0, 0, 0, 0, 0, 0, 1, 0, 0, 0,\n",
              "       0, 0, 1, 1, 0, 0, 0, 1, 0, 0, 0, 0, 0, 1, 0, 0, 0, 0, 0, 1, 0, 0,\n",
              "       0, 0, 0, 0, 0, 1, 0, 0, 0, 0, 0, 0, 1, 0, 0, 0, 0, 0, 0, 1, 0, 0,\n",
              "       0, 0, 0, 1, 0, 0, 0, 0, 0, 0, 0, 0, 0, 0, 0, 0, 0, 0, 0, 0, 0, 0,\n",
              "       0, 0, 0, 0, 1, 0, 0, 0, 0, 0, 0, 0, 1, 0, 0, 0, 0, 0, 0, 0, 0, 0,\n",
              "       0, 0, 0, 0, 1, 0, 0, 0, 0, 0, 0, 0, 0, 0, 1, 0, 0, 0, 0, 0, 0, 0,\n",
              "       0, 0, 0, 0, 0, 0, 0, 0, 0, 0, 0, 0, 0, 1, 0, 0, 0, 0, 0, 0, 0, 0,\n",
              "       0, 1, 0, 0, 1, 0, 0, 0, 0, 0, 0, 0, 1, 0, 0, 0, 0, 0, 0, 0, 0, 0,\n",
              "       0, 0, 1, 0, 0, 0, 0, 0, 0, 0, 0, 0, 0, 0, 0, 1, 0, 0, 0, 0, 0, 0,\n",
              "       0, 0, 1, 0, 0, 0, 1, 0, 0, 0, 0, 0, 0, 0, 1, 1])"
            ]
          },
          "metadata": {},
          "execution_count": 79
        }
      ]
    },
    {
      "cell_type": "code",
      "source": [
        "nn_credit_accuracy = accuracy_score(y_credit_test, nn_credit_predictors)\n",
        "nn_credit_accuracy"
      ],
      "metadata": {
        "colab": {
          "base_uri": "https://localhost:8080/"
        },
        "id": "OgPWSEaxia-0",
        "outputId": "6f92a2f5-0574-4267-e2c0-2f0e6b9b7eaf"
      },
      "execution_count": 80,
      "outputs": [
        {
          "output_type": "execute_result",
          "data": {
            "text/plain": [
              "0.996"
            ]
          },
          "metadata": {},
          "execution_count": 80
        }
      ]
    },
    {
      "cell_type": "markdown",
      "source": [
        "#### Neural Network Census"
      ],
      "metadata": {
        "id": "ut5OmfQgqTKw"
      }
    },
    {
      "cell_type": "code",
      "source": [
        "nn_census_predictors = neural_network_census.predict(x_census_test)\n",
        "nn_census_predictors"
      ],
      "metadata": {
        "colab": {
          "base_uri": "https://localhost:8080/"
        },
        "id": "shsHvs0xqWR-",
        "outputId": "5279cc8d-096a-4d1e-9e04-ac99763a2aaf"
      },
      "execution_count": 82,
      "outputs": [
        {
          "output_type": "execute_result",
          "data": {
            "text/plain": [
              "array([0, 0, 0, ..., 0, 1, 0])"
            ]
          },
          "metadata": {},
          "execution_count": 82
        }
      ]
    },
    {
      "cell_type": "code",
      "source": [
        "nn_census_accuracy = accuracy_score(y_census_test, nn_census_predictors)\n",
        "nn_census_accuracy"
      ],
      "metadata": {
        "colab": {
          "base_uri": "https://localhost:8080/"
        },
        "id": "J7HC_Cyfq0Bd",
        "outputId": "e514e3fe-1f88-4fcf-a210-03c4c140def8"
      },
      "execution_count": 83,
      "outputs": [
        {
          "output_type": "execute_result",
          "data": {
            "text/plain": [
              "0.8218892028006387"
            ]
          },
          "metadata": {},
          "execution_count": 83
        }
      ]
    }
  ]
}